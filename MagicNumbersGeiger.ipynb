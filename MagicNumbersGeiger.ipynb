{
  "cells": [
    {
      "cell_type": "code",
      "execution_count": null,
      "metadata": {
        "id": "ccTMkSfdYwIp"
      },
      "outputs": [],
      "source": [
        "#se importan las librerias necesarias\n",
        "import matplotlib.pyplot as plt\n",
        "import pandas as pd\n",
        "import math as m\n",
        "import numpy as np"
      ]
    },
    {
      "cell_type": "markdown",
      "metadata": {
        "id": "OgH-QrVYRvD7"
      },
      "source": [
        "##PUNTO 1"
      ]
    },
    {
      "cell_type": "code",
      "execution_count": null,
      "metadata": {
        "colab": {
          "base_uri": "https://localhost:8080/",
          "height": 143
        },
        "id": "RpsvLEMqY0DS",
        "outputId": "0040055f-2d27-4738-b83f-14fd084b0aad"
      },
      "outputs": [
        {
          "data": {
            "text/html": [
              "\n",
              "  <div id=\"df-f10ae9e8-016a-45ec-977b-ad413efd56eb\">\n",
              "    <div class=\"colab-df-container\">\n",
              "      <div>\n",
              "<style scoped>\n",
              "    .dataframe tbody tr th:only-of-type {\n",
              "        vertical-align: middle;\n",
              "    }\n",
              "\n",
              "    .dataframe tbody tr th {\n",
              "        vertical-align: top;\n",
              "    }\n",
              "\n",
              "    .dataframe thead th {\n",
              "        text-align: right;\n",
              "    }\n",
              "</style>\n",
              "<table border=\"1\" class=\"dataframe\">\n",
              "  <thead>\n",
              "    <tr style=\"text-align: right;\">\n",
              "      <th></th>\n",
              "      <th>N</th>\n",
              "      <th>Z</th>\n",
              "      <th>A</th>\n",
              "      <th>M.E (keV)</th>\n",
              "      <th>error (keV)</th>\n",
              "      <th>B.E/A (keV)</th>\n",
              "      <th>error2 (keV)</th>\n",
              "      <th>A.M (micro-u)</th>\n",
              "      <th>error(micro-u)</th>\n",
              "    </tr>\n",
              "  </thead>\n",
              "  <tbody>\n",
              "    <tr>\n",
              "      <th>0</th>\n",
              "      <td>1</td>\n",
              "      <td>0</td>\n",
              "      <td>1</td>\n",
              "      <td>8071.318060</td>\n",
              "      <td>0.000440</td>\n",
              "      <td>0.0000</td>\n",
              "      <td>0.0000</td>\n",
              "      <td>1.008665e+06</td>\n",
              "      <td>0.000470</td>\n",
              "    </tr>\n",
              "    <tr>\n",
              "      <th>1</th>\n",
              "      <td>0</td>\n",
              "      <td>1</td>\n",
              "      <td>1</td>\n",
              "      <td>7288.971064</td>\n",
              "      <td>0.000013</td>\n",
              "      <td>0.0000</td>\n",
              "      <td>0.0000</td>\n",
              "      <td>1.007825e+06</td>\n",
              "      <td>0.000014</td>\n",
              "    </tr>\n",
              "    <tr>\n",
              "      <th>2</th>\n",
              "      <td>1</td>\n",
              "      <td>1</td>\n",
              "      <td>2</td>\n",
              "      <td>13135.722895</td>\n",
              "      <td>0.000015</td>\n",
              "      <td>1112.2831</td>\n",
              "      <td>0.0002</td>\n",
              "      <td>2.014102e+06</td>\n",
              "      <td>0.000015</td>\n",
              "    </tr>\n",
              "  </tbody>\n",
              "</table>\n",
              "</div>\n",
              "      <button class=\"colab-df-convert\" onclick=\"convertToInteractive('df-f10ae9e8-016a-45ec-977b-ad413efd56eb')\"\n",
              "              title=\"Convert this dataframe to an interactive table.\"\n",
              "              style=\"display:none;\">\n",
              "        \n",
              "  <svg xmlns=\"http://www.w3.org/2000/svg\" height=\"24px\"viewBox=\"0 0 24 24\"\n",
              "       width=\"24px\">\n",
              "    <path d=\"M0 0h24v24H0V0z\" fill=\"none\"/>\n",
              "    <path d=\"M18.56 5.44l.94 2.06.94-2.06 2.06-.94-2.06-.94-.94-2.06-.94 2.06-2.06.94zm-11 1L8.5 8.5l.94-2.06 2.06-.94-2.06-.94L8.5 2.5l-.94 2.06-2.06.94zm10 10l.94 2.06.94-2.06 2.06-.94-2.06-.94-.94-2.06-.94 2.06-2.06.94z\"/><path d=\"M17.41 7.96l-1.37-1.37c-.4-.4-.92-.59-1.43-.59-.52 0-1.04.2-1.43.59L10.3 9.45l-7.72 7.72c-.78.78-.78 2.05 0 2.83L4 21.41c.39.39.9.59 1.41.59.51 0 1.02-.2 1.41-.59l7.78-7.78 2.81-2.81c.8-.78.8-2.07 0-2.86zM5.41 20L4 18.59l7.72-7.72 1.47 1.35L5.41 20z\"/>\n",
              "  </svg>\n",
              "      </button>\n",
              "      \n",
              "  <style>\n",
              "    .colab-df-container {\n",
              "      display:flex;\n",
              "      flex-wrap:wrap;\n",
              "      gap: 12px;\n",
              "    }\n",
              "\n",
              "    .colab-df-convert {\n",
              "      background-color: #E8F0FE;\n",
              "      border: none;\n",
              "      border-radius: 50%;\n",
              "      cursor: pointer;\n",
              "      display: none;\n",
              "      fill: #1967D2;\n",
              "      height: 32px;\n",
              "      padding: 0 0 0 0;\n",
              "      width: 32px;\n",
              "    }\n",
              "\n",
              "    .colab-df-convert:hover {\n",
              "      background-color: #E2EBFA;\n",
              "      box-shadow: 0px 1px 2px rgba(60, 64, 67, 0.3), 0px 1px 3px 1px rgba(60, 64, 67, 0.15);\n",
              "      fill: #174EA6;\n",
              "    }\n",
              "\n",
              "    [theme=dark] .colab-df-convert {\n",
              "      background-color: #3B4455;\n",
              "      fill: #D2E3FC;\n",
              "    }\n",
              "\n",
              "    [theme=dark] .colab-df-convert:hover {\n",
              "      background-color: #434B5C;\n",
              "      box-shadow: 0px 1px 3px 1px rgba(0, 0, 0, 0.15);\n",
              "      filter: drop-shadow(0px 1px 2px rgba(0, 0, 0, 0.3));\n",
              "      fill: #FFFFFF;\n",
              "    }\n",
              "  </style>\n",
              "\n",
              "      <script>\n",
              "        const buttonEl =\n",
              "          document.querySelector('#df-f10ae9e8-016a-45ec-977b-ad413efd56eb button.colab-df-convert');\n",
              "        buttonEl.style.display =\n",
              "          google.colab.kernel.accessAllowed ? 'block' : 'none';\n",
              "\n",
              "        async function convertToInteractive(key) {\n",
              "          const element = document.querySelector('#df-f10ae9e8-016a-45ec-977b-ad413efd56eb');\n",
              "          const dataTable =\n",
              "            await google.colab.kernel.invokeFunction('convertToInteractive',\n",
              "                                                     [key], {});\n",
              "          if (!dataTable) return;\n",
              "\n",
              "          const docLinkHtml = 'Like what you see? Visit the ' +\n",
              "            '<a target=\"_blank\" href=https://colab.research.google.com/notebooks/data_table.ipynb>data table notebook</a>'\n",
              "            + ' to learn more about interactive tables.';\n",
              "          element.innerHTML = '';\n",
              "          dataTable['output_type'] = 'display_data';\n",
              "          await google.colab.output.renderOutput(dataTable, element);\n",
              "          const docLink = document.createElement('div');\n",
              "          docLink.innerHTML = docLinkHtml;\n",
              "          element.appendChild(docLink);\n",
              "        }\n",
              "      </script>\n",
              "    </div>\n",
              "  </div>\n",
              "  "
            ],
            "text/plain": [
              "   N  Z  A     M.E (keV)  error (keV)  B.E/A (keV)  error2 (keV)  \\\n",
              "0  1  0  1   8071.318060     0.000440       0.0000        0.0000   \n",
              "1  0  1  1   7288.971064     0.000013       0.0000        0.0000   \n",
              "2  1  1  2  13135.722895     0.000015    1112.2831        0.0002   \n",
              "\n",
              "   A.M (micro-u)  error(micro-u)  \n",
              "0   1.008665e+06        0.000470  \n",
              "1   1.007825e+06        0.000014  \n",
              "2   2.014102e+06        0.000015  "
            ]
          },
          "execution_count": 75,
          "metadata": {},
          "output_type": "execute_result"
        }
      ],
      "source": [
        "#se carga el archivo de datos a un dataframe de pandas y se visualizan los 3 primeros items\n",
        "df = pd.read_fwf(\"mymass20.dat\", names=[\"N\",\"Z\",\"A\",\"M.E (keV)\",\"error (keV)\",\"B.E/A (keV)\",\"error2 (keV)\",\"A.M (micro-u)\",\"error(micro-u)\"],\n",
        "                 infer_nrows=2200)\n",
        "df.head(3)"
      ]
    },
    {
      "cell_type": "code",
      "execution_count": null,
      "metadata": {
        "colab": {
          "base_uri": "https://localhost:8080/",
          "height": 407
        },
        "id": "cbKvqa7FY1oL",
        "outputId": "07563b18-6d2d-4d6e-d8bd-bf4e3fd4c548"
      },
      "outputs": [
        {
          "name": "stderr",
          "output_type": "stream",
          "text": [
            "/usr/local/lib/python3.7/dist-packages/ipykernel_launcher.py:3: SettingWithCopyWarning: \n",
            "A value is trying to be set on a copy of a slice from a DataFrame.\n",
            "Try using .loc[row_indexer,col_indexer] = value instead\n",
            "\n",
            "See the caveats in the documentation: https://pandas.pydata.org/pandas-docs/stable/user_guide/indexing.html#returning-a-view-versus-a-copy\n",
            "  This is separate from the ipykernel package so we can avoid doing imports until\n",
            "/usr/local/lib/python3.7/dist-packages/pandas/core/frame.py:4913: SettingWithCopyWarning: \n",
            "A value is trying to be set on a copy of a slice from a DataFrame\n",
            "\n",
            "See the caveats in the documentation: https://pandas.pydata.org/pandas-docs/stable/user_guide/indexing.html#returning-a-view-versus-a-copy\n",
            "  errors=errors,\n"
          ]
        },
        {
          "data": {
            "text/html": [
              "\n",
              "  <div id=\"df-4b843259-0e9b-44fb-957b-62637a1e6976\">\n",
              "    <div class=\"colab-df-container\">\n",
              "      <div>\n",
              "<style scoped>\n",
              "    .dataframe tbody tr th:only-of-type {\n",
              "        vertical-align: middle;\n",
              "    }\n",
              "\n",
              "    .dataframe tbody tr th {\n",
              "        vertical-align: top;\n",
              "    }\n",
              "\n",
              "    .dataframe thead th {\n",
              "        text-align: right;\n",
              "    }\n",
              "</style>\n",
              "<table border=\"1\" class=\"dataframe\">\n",
              "  <thead>\n",
              "    <tr style=\"text-align: right;\">\n",
              "      <th></th>\n",
              "      <th>Z</th>\n",
              "      <th>N</th>\n",
              "      <th>B.E</th>\n",
              "    </tr>\n",
              "  </thead>\n",
              "  <tbody>\n",
              "    <tr>\n",
              "      <th>0</th>\n",
              "      <td>0</td>\n",
              "      <td>1</td>\n",
              "      <td>0.00000</td>\n",
              "    </tr>\n",
              "    <tr>\n",
              "      <th>1</th>\n",
              "      <td>1</td>\n",
              "      <td>0</td>\n",
              "      <td>0.00000</td>\n",
              "    </tr>\n",
              "    <tr>\n",
              "      <th>2</th>\n",
              "      <td>1</td>\n",
              "      <td>1</td>\n",
              "      <td>2224.56620</td>\n",
              "    </tr>\n",
              "    <tr>\n",
              "      <th>3</th>\n",
              "      <td>1</td>\n",
              "      <td>2</td>\n",
              "      <td>8481.79620</td>\n",
              "    </tr>\n",
              "    <tr>\n",
              "      <th>4</th>\n",
              "      <td>2</td>\n",
              "      <td>1</td>\n",
              "      <td>7718.04132</td>\n",
              "    </tr>\n",
              "  </tbody>\n",
              "</table>\n",
              "</div>\n",
              "      <button class=\"colab-df-convert\" onclick=\"convertToInteractive('df-4b843259-0e9b-44fb-957b-62637a1e6976')\"\n",
              "              title=\"Convert this dataframe to an interactive table.\"\n",
              "              style=\"display:none;\">\n",
              "        \n",
              "  <svg xmlns=\"http://www.w3.org/2000/svg\" height=\"24px\"viewBox=\"0 0 24 24\"\n",
              "       width=\"24px\">\n",
              "    <path d=\"M0 0h24v24H0V0z\" fill=\"none\"/>\n",
              "    <path d=\"M18.56 5.44l.94 2.06.94-2.06 2.06-.94-2.06-.94-.94-2.06-.94 2.06-2.06.94zm-11 1L8.5 8.5l.94-2.06 2.06-.94-2.06-.94L8.5 2.5l-.94 2.06-2.06.94zm10 10l.94 2.06.94-2.06 2.06-.94-2.06-.94-.94-2.06-.94 2.06-2.06.94z\"/><path d=\"M17.41 7.96l-1.37-1.37c-.4-.4-.92-.59-1.43-.59-.52 0-1.04.2-1.43.59L10.3 9.45l-7.72 7.72c-.78.78-.78 2.05 0 2.83L4 21.41c.39.39.9.59 1.41.59.51 0 1.02-.2 1.41-.59l7.78-7.78 2.81-2.81c.8-.78.8-2.07 0-2.86zM5.41 20L4 18.59l7.72-7.72 1.47 1.35L5.41 20z\"/>\n",
              "  </svg>\n",
              "      </button>\n",
              "      \n",
              "  <style>\n",
              "    .colab-df-container {\n",
              "      display:flex;\n",
              "      flex-wrap:wrap;\n",
              "      gap: 12px;\n",
              "    }\n",
              "\n",
              "    .colab-df-convert {\n",
              "      background-color: #E8F0FE;\n",
              "      border: none;\n",
              "      border-radius: 50%;\n",
              "      cursor: pointer;\n",
              "      display: none;\n",
              "      fill: #1967D2;\n",
              "      height: 32px;\n",
              "      padding: 0 0 0 0;\n",
              "      width: 32px;\n",
              "    }\n",
              "\n",
              "    .colab-df-convert:hover {\n",
              "      background-color: #E2EBFA;\n",
              "      box-shadow: 0px 1px 2px rgba(60, 64, 67, 0.3), 0px 1px 3px 1px rgba(60, 64, 67, 0.15);\n",
              "      fill: #174EA6;\n",
              "    }\n",
              "\n",
              "    [theme=dark] .colab-df-convert {\n",
              "      background-color: #3B4455;\n",
              "      fill: #D2E3FC;\n",
              "    }\n",
              "\n",
              "    [theme=dark] .colab-df-convert:hover {\n",
              "      background-color: #434B5C;\n",
              "      box-shadow: 0px 1px 3px 1px rgba(0, 0, 0, 0.15);\n",
              "      filter: drop-shadow(0px 1px 2px rgba(0, 0, 0, 0.3));\n",
              "      fill: #FFFFFF;\n",
              "    }\n",
              "  </style>\n",
              "\n",
              "      <script>\n",
              "        const buttonEl =\n",
              "          document.querySelector('#df-4b843259-0e9b-44fb-957b-62637a1e6976 button.colab-df-convert');\n",
              "        buttonEl.style.display =\n",
              "          google.colab.kernel.accessAllowed ? 'block' : 'none';\n",
              "\n",
              "        async function convertToInteractive(key) {\n",
              "          const element = document.querySelector('#df-4b843259-0e9b-44fb-957b-62637a1e6976');\n",
              "          const dataTable =\n",
              "            await google.colab.kernel.invokeFunction('convertToInteractive',\n",
              "                                                     [key], {});\n",
              "          if (!dataTable) return;\n",
              "\n",
              "          const docLinkHtml = 'Like what you see? Visit the ' +\n",
              "            '<a target=\"_blank\" href=https://colab.research.google.com/notebooks/data_table.ipynb>data table notebook</a>'\n",
              "            + ' to learn more about interactive tables.';\n",
              "          element.innerHTML = '';\n",
              "          dataTable['output_type'] = 'display_data';\n",
              "          await google.colab.output.renderOutput(dataTable, element);\n",
              "          const docLink = document.createElement('div');\n",
              "          docLink.innerHTML = docLinkHtml;\n",
              "          element.appendChild(docLink);\n",
              "        }\n",
              "      </script>\n",
              "    </div>\n",
              "  </div>\n",
              "  "
            ],
            "text/plain": [
              "   Z  N         B.E\n",
              "0  0  1     0.00000\n",
              "1  1  0     0.00000\n",
              "2  1  1  2224.56620\n",
              "3  1  2  8481.79620\n",
              "4  2  1  7718.04132"
            ]
          },
          "execution_count": 76,
          "metadata": {},
          "output_type": "execute_result"
        }
      ],
      "source": [
        "#se separan las columnas de Z, N Y B.E/A y se visualizan los primeros datos\n",
        "df2 = df[[\"Z\",\"N\",\"B.E/A (keV)\"]]\n",
        "df2[\"B.E\"] = df[\"A\"]*df2[\"B.E/A (keV)\"] #se multiplica por A para despejar B.E\n",
        "df2.drop(\"B.E/A (keV)\", axis=1, inplace = True)\n",
        "df2.head(5)"
      ]
    },
    {
      "cell_type": "markdown",
      "metadata": {
        "id": "4ZUd9mvSSplK"
      },
      "source": [
        "We find the rows for which Z = 8, 20, 28, 50 and 82 and apply the difference between B.E according to the Sn equation."
      ]
    },
    {
      "cell_type": "code",
      "execution_count": null,
      "metadata": {
        "id": "o25TJ8ymY5VK"
      },
      "outputs": [],
      "source": [
        "iso8 = df2.loc[(df2[\"Z\"] == 8)]  #tomo los N para Z = 8\n",
        "iso8 = iso8.drop([3396,3496,3490,3484,3478,3472,3467,3462,3457,3451,3446,3441,3435,3429,3422,3416,3409,3403])\n",
        "iso8[\"B.E\"] = iso8[\"B.E\"]*0.001 # convierto a MeV la columna B.E\n",
        "Sn8 = iso8[\"B.E\"].diff()"
      ]
    },
    {
      "cell_type": "code",
      "execution_count": null,
      "metadata": {
        "colab": {
          "base_uri": "https://localhost:8080/",
          "height": 328
        },
        "id": "v3J2ceNO0BA8",
        "outputId": "d370fda3-f5a9-4fae-80b8-13dda257c7d9"
      },
      "outputs": [
        {
          "data": {
            "text/plain": [
              "<matplotlib.legend.Legend at 0x7fc33615fa50>"
            ]
          },
          "execution_count": 78,
          "metadata": {},
          "output_type": "execute_result"
        },
        {
          "data": {
            "image/png": "[encoded data removed]",
            "text/plain": [
              "<Figure size 432x288 with 1 Axes>"
            ]
          },
          "metadata": {
            "needs_background": "light"
          },
          "output_type": "display_data"
        }
      ],
      "source": [
        "plt.plot(iso8[\"N\"],Sn8,'*-',label=\"O\")\n",
        "plt.ylabel('Sn [MeV]')\n",
        "plt.xlabel('N')\n",
        "plt.title('Energía de separación neutrones para \\n la cadenas de isotopos del O')\n",
        "plt.grid()\n",
        "plt.legend()"
      ]
    },
    {
      "cell_type": "code",
      "execution_count": null,
      "metadata": {
        "colab": {
          "base_uri": "https://localhost:8080/"
        },
        "id": "aamj1HkVaBJl",
        "outputId": "93ca27ab-f394-41cc-abf0-146c196b3515"
      },
      "outputs": [
        {
          "name": "stderr",
          "output_type": "stream",
          "text": [
            "/usr/local/lib/python3.7/dist-packages/ipykernel_launcher.py:2: SettingWithCopyWarning: \n",
            "A value is trying to be set on a copy of a slice from a DataFrame.\n",
            "Try using .loc[row_indexer,col_indexer] = value instead\n",
            "\n",
            "See the caveats in the documentation: https://pandas.pydata.org/pandas-docs/stable/user_guide/indexing.html#returning-a-view-versus-a-copy\n",
            "  \n"
          ]
        }
      ],
      "source": [
        "iso20 = df2.loc[(df2[\"Z\"] == 20)]  #tomo los N para Z = 20\n",
        "iso20[\"B.E\"] = iso20[\"B.E\"]*0.001 # convierto a MeV la columna B.E\n",
        "Sn20 = iso20[\"B.E\"].diff()"
      ]
    },
    {
      "cell_type": "code",
      "execution_count": null,
      "metadata": {
        "colab": {
          "base_uri": "https://localhost:8080/",
          "height": 328
        },
        "id": "GQncgHXdk2b3",
        "outputId": "2b17963e-3661-4370-bd32-c162b8edd183"
      },
      "outputs": [
        {
          "data": {
            "text/plain": [
              "<matplotlib.legend.Legend at 0x7fc332729650>"
            ]
          },
          "execution_count": 80,
          "metadata": {},
          "output_type": "execute_result"
        },
        {
          "data": {
            "image/png": "[encoded data removed]",
            "text/plain": [
              "<Figure size 432x288 with 1 Axes>"
            ]
          },
          "metadata": {
            "needs_background": "light"
          },
          "output_type": "display_data"
        }
      ],
      "source": [
        "plt.plot(iso20[\"N\"],Sn20,'*-',label=\"Ca\")\n",
        "plt.ylabel('Sn [MeV]')\n",
        "plt.xlabel('N')\n",
        "plt.title('Energía de separación neutrones para \\n la cadenas de isotopos del Ca')\n",
        "plt.grid()\n",
        "plt.legend()"
      ]
    },
    {
      "cell_type": "code",
      "execution_count": null,
      "metadata": {
        "colab": {
          "base_uri": "https://localhost:8080/"
        },
        "id": "QEPh9oJOygZq",
        "outputId": "ee10f478-418a-4254-dd6a-488cadeb2163"
      },
      "outputs": [
        {
          "name": "stderr",
          "output_type": "stream",
          "text": [
            "/usr/local/lib/python3.7/dist-packages/ipykernel_launcher.py:2: SettingWithCopyWarning: \n",
            "A value is trying to be set on a copy of a slice from a DataFrame.\n",
            "Try using .loc[row_indexer,col_indexer] = value instead\n",
            "\n",
            "See the caveats in the documentation: https://pandas.pydata.org/pandas-docs/stable/user_guide/indexing.html#returning-a-view-versus-a-copy\n",
            "  \n"
          ]
        }
      ],
      "source": [
        "iso28 = df2.loc[(df2[\"Z\"] == 28)]  #tomo los N para Z = 28\n",
        "iso28[\"B.E\"] = iso28[\"B.E\"]*0.001 # convierto a MeV la columna B.E\n",
        "Sn28 = iso28[\"B.E\"].diff()"
      ]
    },
    {
      "cell_type": "code",
      "execution_count": null,
      "metadata": {
        "colab": {
          "base_uri": "https://localhost:8080/",
          "height": 328
        },
        "id": "1j7W29U40xFs",
        "outputId": "aec1a516-1a35-4000-89d7-2b2db0f86532"
      },
      "outputs": [
        {
          "data": {
            "text/plain": [
              "<matplotlib.legend.Legend at 0x7fc3329acf50>"
            ]
          },
          "execution_count": 82,
          "metadata": {},
          "output_type": "execute_result"
        },
        {
          "data": {
            "image/png": "[encoded data removed]",
            "text/plain": [
              "<Figure size 432x288 with 1 Axes>"
            ]
          },
          "metadata": {
            "needs_background": "light"
          },
          "output_type": "display_data"
        }
      ],
      "source": [
        "plt.plot(iso28[\"N\"],Sn28,'*-',label=\"Ni\")\n",
        "plt.ylabel('Sn [MeV]')\n",
        "plt.xlabel('N')\n",
        "plt.title('Energía de separación neutrones para \\n la cadenas de isotopos del Ni')\n",
        "plt.grid()\n",
        "plt.legend()"
      ]
    },
    {
      "cell_type": "code",
      "execution_count": null,
      "metadata": {
        "colab": {
          "base_uri": "https://localhost:8080/"
        },
        "id": "4YgVoxTN00BI",
        "outputId": "10dea24a-77c1-4e1c-ffc8-c3209d147f78"
      },
      "outputs": [
        {
          "name": "stderr",
          "output_type": "stream",
          "text": [
            "/usr/local/lib/python3.7/dist-packages/ipykernel_launcher.py:2: SettingWithCopyWarning: \n",
            "A value is trying to be set on a copy of a slice from a DataFrame.\n",
            "Try using .loc[row_indexer,col_indexer] = value instead\n",
            "\n",
            "See the caveats in the documentation: https://pandas.pydata.org/pandas-docs/stable/user_guide/indexing.html#returning-a-view-versus-a-copy\n",
            "  \n"
          ]
        }
      ],
      "source": [
        "iso50 = df2.loc[(df2[\"Z\"] == 50)]  #tomo los N para Z = 50\n",
        "iso50[\"B.E\"] = iso50[\"B.E\"]*0.001 # convierto a MeV la columna B.E\n",
        "Sn50 = iso50[\"B.E\"].diff()"
      ]
    },
    {
      "cell_type": "code",
      "execution_count": null,
      "metadata": {
        "colab": {
          "base_uri": "https://localhost:8080/",
          "height": 328
        },
        "id": "gszxQYMU1VKk",
        "outputId": "02b2aebc-02bf-451c-8e13-bb28fdfcaf6b"
      },
      "outputs": [
        {
          "data": {
            "text/plain": [
              "<matplotlib.legend.Legend at 0x7fc3327188d0>"
            ]
          },
          "execution_count": 84,
          "metadata": {},
          "output_type": "execute_result"
        },
        {
          "data": {
            "image/png": "[encoded data removed]",
            "text/plain": [
              "<Figure size 432x288 with 1 Axes>"
            ]
          },
          "metadata": {
            "needs_background": "light"
          },
          "output_type": "display_data"
        }
      ],
      "source": [
        "plt.plot(iso50[\"N\"],Sn50,'*-',label=\"Sn\")\n",
        "plt.ylabel('Sn [MeV]')\n",
        "plt.xlabel('N')\n",
        "plt.title('Energía de separación neutrones para \\n la cadenas de isotopos del Sn')\n",
        "plt.grid()\n",
        "plt.legend()"
      ]
    },
    {
      "cell_type": "code",
      "execution_count": null,
      "metadata": {
        "colab": {
          "base_uri": "https://localhost:8080/"
        },
        "id": "PdPuAmOW1XOn",
        "outputId": "0e8e7dc3-2473-4bb8-ba4a-9af292c6d2da"
      },
      "outputs": [
        {
          "name": "stderr",
          "output_type": "stream",
          "text": [
            "/usr/local/lib/python3.7/dist-packages/ipykernel_launcher.py:2: SettingWithCopyWarning: \n",
            "A value is trying to be set on a copy of a slice from a DataFrame.\n",
            "Try using .loc[row_indexer,col_indexer] = value instead\n",
            "\n",
            "See the caveats in the documentation: https://pandas.pydata.org/pandas-docs/stable/user_guide/indexing.html#returning-a-view-versus-a-copy\n",
            "  \n"
          ]
        }
      ],
      "source": [
        "iso82 = df2.loc[(df2[\"Z\"] == 82)]  #tomo los N para Z = 82\n",
        "iso82[\"B.E\"] = iso82[\"B.E\"]*0.001 # convierto a MeV la columna B.E\n",
        "Sn82 = iso82[\"B.E\"].diff()"
      ]
    },
    {
      "cell_type": "code",
      "execution_count": null,
      "metadata": {
        "colab": {
          "base_uri": "https://localhost:8080/",
          "height": 328
        },
        "id": "I4MSeMmm1im5",
        "outputId": "b91e6edd-3284-4fe2-f66a-b13b9b170b73"
      },
      "outputs": [
        {
          "data": {
            "text/plain": [
              "<matplotlib.legend.Legend at 0x7fc332816d90>"
            ]
          },
          "execution_count": 86,
          "metadata": {},
          "output_type": "execute_result"
        },
        {
          "data": {
            "image/png": "[encoded data removed]",
            "text/plain": [
              "<Figure size 432x288 with 1 Axes>"
            ]
          },
          "metadata": {
            "needs_background": "light"
          },
          "output_type": "display_data"
        }
      ],
      "source": [
        "plt.plot(iso82[\"N\"],Sn82,'*-',label=\"Pb\")\n",
        "plt.ylabel('Sn [MeV]')\n",
        "plt.xlabel('N')\n",
        "plt.title('Energía de separación neutrones para \\n la cadenas de isotopos del Pb')\n",
        "plt.grid()\n",
        "plt.legend()"
      ]
    },
    {
      "cell_type": "markdown",
      "metadata": {
        "id": "3pTVyd-0cxw3"
      },
      "source": [
        "We can observe that there is a marked drop in the separation energy for N = 8, 20, 28, 50, 82 and 126 respectively for O, Ca, Ni, Sn and Pb. These numbers coincide as seen in class with the so-called magic numbers, N numbers for which the nucleus exhibits exceptional stability against decay phenomena."
      ]
    },
    {
      "cell_type": "markdown",
      "metadata": {
        "id": "hq171f8911UX"
      },
      "source": [
        "# Now let's calculate $S_{p}$"
      ]
    },
    {
      "cell_type": "code",
      "execution_count": null,
      "metadata": {
        "colab": {
          "base_uri": "https://localhost:8080/"
        },
        "id": "nmjForXT1miP",
        "outputId": "37a53a06-dce2-4543-8ee5-e0b47a1440f4"
      },
      "outputs": [
        {
          "name": "stderr",
          "output_type": "stream",
          "text": [
            "/usr/local/lib/python3.7/dist-packages/ipykernel_launcher.py:2: SettingWithCopyWarning: \n",
            "A value is trying to be set on a copy of a slice from a DataFrame.\n",
            "Try using .loc[row_indexer,col_indexer] = value instead\n",
            "\n",
            "See the caveats in the documentation: https://pandas.pydata.org/pandas-docs/stable/user_guide/indexing.html#returning-a-view-versus-a-copy\n",
            "  \n"
          ]
        }
      ],
      "source": [
        "iso7 = df2.loc[(df2[\"Z\"] == 7)]\n",
        "iso7[\"B.E\"] = iso7[\"B.E\"]*0.001\n",
        "\n",
        "iso7 = iso7.drop([3375,3382,3389,3395,3402,3408,3415,3421,3428,3434,3440,3445,3450,3456,3461,3466,3471,3477,3483,135,144])"
      ]
    },
    {
      "cell_type": "code",
      "execution_count": null,
      "metadata": {
        "id": "BweskY4DDg5E"
      },
      "outputs": [],
      "source": [
        "#igualamos indices para poder restar las columnas\n",
        "ison8 = iso8[\"B.E\"].reset_index()\n",
        "ison7 = iso7[\"B.E\"].reset_index()"
      ]
    },
    {
      "cell_type": "code",
      "execution_count": null,
      "metadata": {
        "id": "9UUFxx3A9ETc"
      },
      "outputs": [],
      "source": [
        "#funcion de energia de separacion\n",
        "Sp8 = ison8[\"B.E\"] - ison7[\"B.E\"]"
      ]
    },
    {
      "cell_type": "code",
      "execution_count": null,
      "metadata": {
        "colab": {
          "base_uri": "https://localhost:8080/"
        },
        "id": "SAITiOXKEH_O",
        "outputId": "f7c5eadc-efd5-4b56-8285-9eff22207bed"
      },
      "outputs": [
        {
          "data": {
            "text/plain": [
              "0     -1.649915\n",
              "1     -0.358719\n",
              "2      1.511607\n",
              "3      4.626672\n",
              "4      7.296765\n",
              "5     12.127411\n",
              "6     13.781641\n",
              "7     15.941866\n",
              "8     17.069280\n",
              "9     19.349055\n",
              "10    20.993435\n",
              "11    23.237854\n",
              "12    24.432405\n",
              "13    25.508994\n",
              "14          NaN\n",
              "15          NaN\n",
              "16          NaN\n",
              "17          NaN\n",
              "Name: B.E, dtype: float64"
            ]
          },
          "execution_count": 90,
          "metadata": {},
          "output_type": "execute_result"
        }
      ],
      "source": [
        "#imprimimos Sp para el oxigeno\n",
        "Sp8"
      ]
    },
    {
      "cell_type": "code",
      "execution_count": null,
      "metadata": {
        "colab": {
          "base_uri": "https://localhost:8080/",
          "height": 328
        },
        "id": "VRvy5od2EgGF",
        "outputId": "2508afff-726a-4ebe-ed59-1ceb3672a98b"
      },
      "outputs": [
        {
          "data": {
            "text/plain": [
              "<matplotlib.legend.Legend at 0x7fc332372850>"
            ]
          },
          "execution_count": 91,
          "metadata": {},
          "output_type": "execute_result"
        },
        {
          "data": {
            "image/png": "[encoded data removed]",
            "text/plain": [
              "<Figure size 432x288 with 1 Axes>"
            ]
          },
          "metadata": {
            "needs_background": "light"
          },
          "output_type": "display_data"
        }
      ],
      "source": [
        "plt.plot(iso8[\"N\"],Sp8,'*-',label=\"O\")\n",
        "plt.ylabel('Sp [MeV]')\n",
        "plt.xlabel('Numero de neutrones')\n",
        "plt.title('Energía de separación protones para \\n la cadenas de isotopos del O')\n",
        "plt.grid()\n",
        "plt.legend()"
      ]
    },
    {
      "cell_type": "markdown",
      "metadata": {
        "id": "0MWHU1WadlqO"
      },
      "source": [
        "We can observe a perfect congruence between the data provided by the professor when comparing. This graph shows us that the proton separation energy Sp increases as we increase the number of neutrons in the isotope, which makes sense from a theoretical point of view."
      ]
    },
    {
      "cell_type": "code",
      "execution_count": null,
      "metadata": {
        "colab": {
          "base_uri": "https://localhost:8080/"
        },
        "id": "V5-9zLR4ErTx",
        "outputId": "1c2c4cc4-388a-4424-e5e1-9060f2d4827f"
      },
      "outputs": [
        {
          "name": "stderr",
          "output_type": "stream",
          "text": [
            "/usr/local/lib/python3.7/dist-packages/ipykernel_launcher.py:2: SettingWithCopyWarning: \n",
            "A value is trying to be set on a copy of a slice from a DataFrame.\n",
            "Try using .loc[row_indexer,col_indexer] = value instead\n",
            "\n",
            "See the caveats in the documentation: https://pandas.pydata.org/pandas-docs/stable/user_guide/indexing.html#returning-a-view-versus-a-copy\n",
            "  \n"
          ]
        }
      ],
      "source": [
        "iso19 = df2.loc[(df2[\"Z\"] == 19)]\n",
        "iso19[\"B.E\"] = iso19[\"B.E\"]*0.001\n",
        "\n",
        "ison19= iso19[\"B.E\"].reset_index()\n",
        "ison20= iso20[\"B.E\"].reset_index()\n",
        "\n",
        "Sp20 = ison20[\"B.E\"] - ison19[\"B.E\"]"
      ]
    },
    {
      "cell_type": "code",
      "execution_count": null,
      "metadata": {
        "colab": {
          "base_uri": "https://localhost:8080/"
        },
        "id": "_RfEjip137QV",
        "outputId": "8a54057b-0391-4811-b0ad-fd5106c03a8f"
      },
      "outputs": [
        {
          "data": {
            "text/plain": [
              "0     18.584000\n",
              "1     22.442000\n",
              "2     17.724000\n",
              "3     20.591676\n",
              "4     17.323466\n",
              "5     20.001610\n",
              "6     17.842797\n",
              "7     21.405931\n",
              "8     16.691001\n",
              "9     20.372085\n",
              "10    18.209611\n",
              "11    21.806985\n",
              "12    19.597124\n",
              "13    22.718400\n",
              "14    21.089314\n",
              "15    24.171228\n",
              "16    20.948314\n",
              "17    22.665040\n",
              "18    22.081099\n",
              "19    23.898704\n",
              "20    22.232538\n",
              "21    23.383246\n",
              "22    21.714944\n",
              "23    23.743262\n",
              "24    22.424000\n",
              "25    24.896000\n",
              "26    23.681000\n",
              "27    26.274000\n",
              "28    25.095000\n",
              "Name: B.E, dtype: float64"
            ]
          },
          "execution_count": 93,
          "metadata": {},
          "output_type": "execute_result"
        }
      ],
      "source": [
        "#imprimimos Sp para el Calcio\n",
        "Sp20"
      ]
    },
    {
      "cell_type": "code",
      "execution_count": null,
      "metadata": {
        "colab": {
          "base_uri": "https://localhost:8080/",
          "height": 328
        },
        "id": "uOSXfGbg3uDA",
        "outputId": "0e1db0f3-b379-4d52-8f1b-dec03c090a9a"
      },
      "outputs": [
        {
          "data": {
            "text/plain": [
              "<matplotlib.legend.Legend at 0x7fc3326adbd0>"
            ]
          },
          "execution_count": 94,
          "metadata": {},
          "output_type": "execute_result"
        },
        {
          "data": {
            "image/png": "[encoded data removed]",
            "text/plain": [
              "<Figure size 432x288 with 1 Axes>"
            ]
          },
          "metadata": {
            "needs_background": "light"
          },
          "output_type": "display_data"
        }
      ],
      "source": [
        "plt.plot(iso20[\"N\"],Sp20,'*-',label=\"Ca\")\n",
        "plt.ylabel('Sp [MeV]')\n",
        "plt.xlabel('Numero de neutrones')\n",
        "plt.title('Energía de separación protones para \\n la cadenas de isotopos del Ca')\n",
        "plt.grid()\n",
        "plt.legend()"
      ]
    },
    {
      "cell_type": "markdown",
      "metadata": {
        "id": "8a0m9hVm4Dlq"
      },
      "source": [
        "##PUNTO 2"
      ]
    },
    {
      "cell_type": "code",
      "execution_count": null,
      "metadata": {
        "colab": {
          "base_uri": "https://localhost:8080/",
          "height": 206
        },
        "id": "ukIUPKdymAgy",
        "outputId": "c42434a8-e5f5-4241-9bb7-ecfcb6419506"
      },
      "outputs": [
        {
          "data": {
            "text/html": [
              "\n",
              "  <div id=\"df-7e43df70-600f-44a5-978c-021a5a571aff\">\n",
              "    <div class=\"colab-df-container\">\n",
              "      <div>\n",
              "<style scoped>\n",
              "    .dataframe tbody tr th:only-of-type {\n",
              "        vertical-align: middle;\n",
              "    }\n",
              "\n",
              "    .dataframe tbody tr th {\n",
              "        vertical-align: top;\n",
              "    }\n",
              "\n",
              "    .dataframe thead th {\n",
              "        text-align: right;\n",
              "    }\n",
              "</style>\n",
              "<table border=\"1\" class=\"dataframe\">\n",
              "  <thead>\n",
              "    <tr style=\"text-align: right;\">\n",
              "      <th></th>\n",
              "      <th>Z</th>\n",
              "      <th>A</th>\n",
              "      <th>M.E</th>\n",
              "    </tr>\n",
              "  </thead>\n",
              "  <tbody>\n",
              "    <tr>\n",
              "      <th>0</th>\n",
              "      <td>0</td>\n",
              "      <td>1</td>\n",
              "      <td>8.071318</td>\n",
              "    </tr>\n",
              "    <tr>\n",
              "      <th>1</th>\n",
              "      <td>1</td>\n",
              "      <td>1</td>\n",
              "      <td>7.288971</td>\n",
              "    </tr>\n",
              "    <tr>\n",
              "      <th>2</th>\n",
              "      <td>1</td>\n",
              "      <td>2</td>\n",
              "      <td>13.135723</td>\n",
              "    </tr>\n",
              "    <tr>\n",
              "      <th>3</th>\n",
              "      <td>1</td>\n",
              "      <td>3</td>\n",
              "      <td>14.949811</td>\n",
              "    </tr>\n",
              "    <tr>\n",
              "      <th>4</th>\n",
              "      <td>2</td>\n",
              "      <td>3</td>\n",
              "      <td>14.931219</td>\n",
              "    </tr>\n",
              "  </tbody>\n",
              "</table>\n",
              "</div>\n",
              "      <button class=\"colab-df-convert\" onclick=\"convertToInteractive('df-7e43df70-600f-44a5-978c-021a5a571aff')\"\n",
              "              title=\"Convert this dataframe to an interactive table.\"\n",
              "              style=\"display:none;\">\n",
              "        \n",
              "  <svg xmlns=\"http://www.w3.org/2000/svg\" height=\"24px\"viewBox=\"0 0 24 24\"\n",
              "       width=\"24px\">\n",
              "    <path d=\"M0 0h24v24H0V0z\" fill=\"none\"/>\n",
              "    <path d=\"M18.56 5.44l.94 2.06.94-2.06 2.06-.94-2.06-.94-.94-2.06-.94 2.06-2.06.94zm-11 1L8.5 8.5l.94-2.06 2.06-.94-2.06-.94L8.5 2.5l-.94 2.06-2.06.94zm10 10l.94 2.06.94-2.06 2.06-.94-2.06-.94-.94-2.06-.94 2.06-2.06.94z\"/><path d=\"M17.41 7.96l-1.37-1.37c-.4-.4-.92-.59-1.43-.59-.52 0-1.04.2-1.43.59L10.3 9.45l-7.72 7.72c-.78.78-.78 2.05 0 2.83L4 21.41c.39.39.9.59 1.41.59.51 0 1.02-.2 1.41-.59l7.78-7.78 2.81-2.81c.8-.78.8-2.07 0-2.86zM5.41 20L4 18.59l7.72-7.72 1.47 1.35L5.41 20z\"/>\n",
              "  </svg>\n",
              "      </button>\n",
              "      \n",
              "  <style>\n",
              "    .colab-df-container {\n",
              "      display:flex;\n",
              "      flex-wrap:wrap;\n",
              "      gap: 12px;\n",
              "    }\n",
              "\n",
              "    .colab-df-convert {\n",
              "      background-color: #E8F0FE;\n",
              "      border: none;\n",
              "      border-radius: 50%;\n",
              "      cursor: pointer;\n",
              "      display: none;\n",
              "      fill: #1967D2;\n",
              "      height: 32px;\n",
              "      padding: 0 0 0 0;\n",
              "      width: 32px;\n",
              "    }\n",
              "\n",
              "    .colab-df-convert:hover {\n",
              "      background-color: #E2EBFA;\n",
              "      box-shadow: 0px 1px 2px rgba(60, 64, 67, 0.3), 0px 1px 3px 1px rgba(60, 64, 67, 0.15);\n",
              "      fill: #174EA6;\n",
              "    }\n",
              "\n",
              "    [theme=dark] .colab-df-convert {\n",
              "      background-color: #3B4455;\n",
              "      fill: #D2E3FC;\n",
              "    }\n",
              "\n",
              "    [theme=dark] .colab-df-convert:hover {\n",
              "      background-color: #434B5C;\n",
              "      box-shadow: 0px 1px 3px 1px rgba(0, 0, 0, 0.15);\n",
              "      filter: drop-shadow(0px 1px 2px rgba(0, 0, 0, 0.3));\n",
              "      fill: #FFFFFF;\n",
              "    }\n",
              "  </style>\n",
              "\n",
              "      <script>\n",
              "        const buttonEl =\n",
              "          document.querySelector('#df-7e43df70-600f-44a5-978c-021a5a571aff button.colab-df-convert');\n",
              "        buttonEl.style.display =\n",
              "          google.colab.kernel.accessAllowed ? 'block' : 'none';\n",
              "\n",
              "        async function convertToInteractive(key) {\n",
              "          const element = document.querySelector('#df-7e43df70-600f-44a5-978c-021a5a571aff');\n",
              "          const dataTable =\n",
              "            await google.colab.kernel.invokeFunction('convertToInteractive',\n",
              "                                                     [key], {});\n",
              "          if (!dataTable) return;\n",
              "\n",
              "          const docLinkHtml = 'Like what you see? Visit the ' +\n",
              "            '<a target=\"_blank\" href=https://colab.research.google.com/notebooks/data_table.ipynb>data table notebook</a>'\n",
              "            + ' to learn more about interactive tables.';\n",
              "          element.innerHTML = '';\n",
              "          dataTable['output_type'] = 'display_data';\n",
              "          await google.colab.output.renderOutput(dataTable, element);\n",
              "          const docLink = document.createElement('div');\n",
              "          docLink.innerHTML = docLinkHtml;\n",
              "          element.appendChild(docLink);\n",
              "        }\n",
              "      </script>\n",
              "    </div>\n",
              "  </div>\n",
              "  "
            ],
            "text/plain": [
              "   Z  A        M.E\n",
              "0  0  1   8.071318\n",
              "1  1  1   7.288971\n",
              "2  1  2  13.135723\n",
              "3  1  3  14.949811\n",
              "4  2  3  14.931219"
            ]
          },
          "execution_count": 95,
          "metadata": {},
          "output_type": "execute_result"
        }
      ],
      "source": [
        "df3 = df[[\"Z\",\"A\",\"M.E (keV)\"]]\n",
        "df3 = df3.rename(columns={\"M.E (keV)\": \"M.E\"}, errors=\"raise\")\n",
        "df3[\"M.E\"] = df3[\"M.E\"]*0.001 #convertimos la masa a MeV\n",
        "\n",
        "df3.head(5)"
      ]
    },
    {
      "cell_type": "code",
      "execution_count": null,
      "metadata": {
        "id": "ytRvfAwGo8L2"
      },
      "outputs": [],
      "source": [
        "def be(z):\n",
        "  return 15.7*z**(7/3)"
      ]
    },
    {
      "cell_type": "code",
      "execution_count": null,
      "metadata": {
        "colab": {
          "base_uri": "https://localhost:8080/",
          "height": 425
        },
        "id": "ozbgEEfDpaEn",
        "outputId": "97c59000-6ac5-4a98-b629-465e04d4dbf7"
      },
      "outputs": [
        {
          "data": {
            "text/html": [
              "\n",
              "  <div id=\"df-88d257a0-8340-47fd-abcf-2bb6b943b324\">\n",
              "    <div class=\"colab-df-container\">\n",
              "      <div>\n",
              "<style scoped>\n",
              "    .dataframe tbody tr th:only-of-type {\n",
              "        vertical-align: middle;\n",
              "    }\n",
              "\n",
              "    .dataframe tbody tr th {\n",
              "        vertical-align: top;\n",
              "    }\n",
              "\n",
              "    .dataframe thead th {\n",
              "        text-align: right;\n",
              "    }\n",
              "</style>\n",
              "<table border=\"1\" class=\"dataframe\">\n",
              "  <thead>\n",
              "    <tr style=\"text-align: right;\">\n",
              "      <th></th>\n",
              "      <th>index</th>\n",
              "      <th>Z</th>\n",
              "      <th>A</th>\n",
              "      <th>M.E</th>\n",
              "    </tr>\n",
              "  </thead>\n",
              "  <tbody>\n",
              "    <tr>\n",
              "      <th>0</th>\n",
              "      <td>2862</td>\n",
              "      <td>79</td>\n",
              "      <td>210</td>\n",
              "      <td>2.680000</td>\n",
              "    </tr>\n",
              "    <tr>\n",
              "      <th>1</th>\n",
              "      <td>2863</td>\n",
              "      <td>80</td>\n",
              "      <td>210</td>\n",
              "      <td>-5.300000</td>\n",
              "    </tr>\n",
              "    <tr>\n",
              "      <th>2</th>\n",
              "      <td>2864</td>\n",
              "      <td>81</td>\n",
              "      <td>210</td>\n",
              "      <td>-9.246996</td>\n",
              "    </tr>\n",
              "    <tr>\n",
              "      <th>3</th>\n",
              "      <td>2865</td>\n",
              "      <td>82</td>\n",
              "      <td>210</td>\n",
              "      <td>-14.728429</td>\n",
              "    </tr>\n",
              "    <tr>\n",
              "      <th>4</th>\n",
              "      <td>2866</td>\n",
              "      <td>83</td>\n",
              "      <td>210</td>\n",
              "      <td>-14.791905</td>\n",
              "    </tr>\n",
              "    <tr>\n",
              "      <th>5</th>\n",
              "      <td>2867</td>\n",
              "      <td>84</td>\n",
              "      <td>210</td>\n",
              "      <td>-15.953060</td>\n",
              "    </tr>\n",
              "    <tr>\n",
              "      <th>6</th>\n",
              "      <td>2868</td>\n",
              "      <td>85</td>\n",
              "      <td>210</td>\n",
              "      <td>-11.972099</td>\n",
              "    </tr>\n",
              "    <tr>\n",
              "      <th>7</th>\n",
              "      <td>2869</td>\n",
              "      <td>86</td>\n",
              "      <td>210</td>\n",
              "      <td>-9.604764</td>\n",
              "    </tr>\n",
              "    <tr>\n",
              "      <th>8</th>\n",
              "      <td>2870</td>\n",
              "      <td>87</td>\n",
              "      <td>210</td>\n",
              "      <td>-3.343508</td>\n",
              "    </tr>\n",
              "    <tr>\n",
              "      <th>9</th>\n",
              "      <td>2871</td>\n",
              "      <td>88</td>\n",
              "      <td>210</td>\n",
              "      <td>0.442839</td>\n",
              "    </tr>\n",
              "    <tr>\n",
              "      <th>10</th>\n",
              "      <td>2872</td>\n",
              "      <td>89</td>\n",
              "      <td>210</td>\n",
              "      <td>8.764079</td>\n",
              "    </tr>\n",
              "    <tr>\n",
              "      <th>11</th>\n",
              "      <td>2873</td>\n",
              "      <td>90</td>\n",
              "      <td>210</td>\n",
              "      <td>14.059521</td>\n",
              "    </tr>\n",
              "  </tbody>\n",
              "</table>\n",
              "</div>\n",
              "      <button class=\"colab-df-convert\" onclick=\"convertToInteractive('df-88d257a0-8340-47fd-abcf-2bb6b943b324')\"\n",
              "              title=\"Convert this dataframe to an interactive table.\"\n",
              "              style=\"display:none;\">\n",
              "        \n",
              "  <svg xmlns=\"http://www.w3.org/2000/svg\" height=\"24px\"viewBox=\"0 0 24 24\"\n",
              "       width=\"24px\">\n",
              "    <path d=\"M0 0h24v24H0V0z\" fill=\"none\"/>\n",
              "    <path d=\"M18.56 5.44l.94 2.06.94-2.06 2.06-.94-2.06-.94-.94-2.06-.94 2.06-2.06.94zm-11 1L8.5 8.5l.94-2.06 2.06-.94-2.06-.94L8.5 2.5l-.94 2.06-2.06.94zm10 10l.94 2.06.94-2.06 2.06-.94-2.06-.94-.94-2.06-.94 2.06-2.06.94z\"/><path d=\"M17.41 7.96l-1.37-1.37c-.4-.4-.92-.59-1.43-.59-.52 0-1.04.2-1.43.59L10.3 9.45l-7.72 7.72c-.78.78-.78 2.05 0 2.83L4 21.41c.39.39.9.59 1.41.59.51 0 1.02-.2 1.41-.59l7.78-7.78 2.81-2.81c.8-.78.8-2.07 0-2.86zM5.41 20L4 18.59l7.72-7.72 1.47 1.35L5.41 20z\"/>\n",
              "  </svg>\n",
              "      </button>\n",
              "      \n",
              "  <style>\n",
              "    .colab-df-container {\n",
              "      display:flex;\n",
              "      flex-wrap:wrap;\n",
              "      gap: 12px;\n",
              "    }\n",
              "\n",
              "    .colab-df-convert {\n",
              "      background-color: #E8F0FE;\n",
              "      border: none;\n",
              "      border-radius: 50%;\n",
              "      cursor: pointer;\n",
              "      display: none;\n",
              "      fill: #1967D2;\n",
              "      height: 32px;\n",
              "      padding: 0 0 0 0;\n",
              "      width: 32px;\n",
              "    }\n",
              "\n",
              "    .colab-df-convert:hover {\n",
              "      background-color: #E2EBFA;\n",
              "      box-shadow: 0px 1px 2px rgba(60, 64, 67, 0.3), 0px 1px 3px 1px rgba(60, 64, 67, 0.15);\n",
              "      fill: #174EA6;\n",
              "    }\n",
              "\n",
              "    [theme=dark] .colab-df-convert {\n",
              "      background-color: #3B4455;\n",
              "      fill: #D2E3FC;\n",
              "    }\n",
              "\n",
              "    [theme=dark] .colab-df-convert:hover {\n",
              "      background-color: #434B5C;\n",
              "      box-shadow: 0px 1px 3px 1px rgba(0, 0, 0, 0.15);\n",
              "      filter: drop-shadow(0px 1px 2px rgba(0, 0, 0, 0.3));\n",
              "      fill: #FFFFFF;\n",
              "    }\n",
              "  </style>\n",
              "\n",
              "      <script>\n",
              "        const buttonEl =\n",
              "          document.querySelector('#df-88d257a0-8340-47fd-abcf-2bb6b943b324 button.colab-df-convert');\n",
              "        buttonEl.style.display =\n",
              "          google.colab.kernel.accessAllowed ? 'block' : 'none';\n",
              "\n",
              "        async function convertToInteractive(key) {\n",
              "          const element = document.querySelector('#df-88d257a0-8340-47fd-abcf-2bb6b943b324');\n",
              "          const dataTable =\n",
              "            await google.colab.kernel.invokeFunction('convertToInteractive',\n",
              "                                                     [key], {});\n",
              "          if (!dataTable) return;\n",
              "\n",
              "          const docLinkHtml = 'Like what you see? Visit the ' +\n",
              "            '<a target=\"_blank\" href=https://colab.research.google.com/notebooks/data_table.ipynb>data table notebook</a>'\n",
              "            + ' to learn more about interactive tables.';\n",
              "          element.innerHTML = '';\n",
              "          dataTable['output_type'] = 'display_data';\n",
              "          await google.colab.output.renderOutput(dataTable, element);\n",
              "          const docLink = document.createElement('div');\n",
              "          docLink.innerHTML = docLinkHtml;\n",
              "          element.appendChild(docLink);\n",
              "        }\n",
              "      </script>\n",
              "    </div>\n",
              "  </div>\n",
              "  "
            ],
            "text/plain": [
              "    index   Z    A        M.E\n",
              "0    2862  79  210   2.680000\n",
              "1    2863  80  210  -5.300000\n",
              "2    2864  81  210  -9.246996\n",
              "3    2865  82  210 -14.728429\n",
              "4    2866  83  210 -14.791905\n",
              "5    2867  84  210 -15.953060\n",
              "6    2868  85  210 -11.972099\n",
              "7    2869  86  210  -9.604764\n",
              "8    2870  87  210  -3.343508\n",
              "9    2871  88  210   0.442839\n",
              "10   2872  89  210   8.764079\n",
              "11   2873  90  210  14.059521"
            ]
          },
          "execution_count": 97,
          "metadata": {},
          "output_type": "execute_result"
        }
      ],
      "source": [
        "m_nu = 2 #eV/c**2\n",
        "\n",
        "A4 = df3.loc[(df3[\"A\"] == 210)]\n",
        "A4.reset_index()\n"
      ]
    },
    {
      "cell_type": "markdown",
      "metadata": {
        "id": "pOd5nPnaEGfF"
      },
      "source": [
        "##PUNTO 3"
      ]
    },
    {
      "cell_type": "code",
      "execution_count": null,
      "metadata": {
        "colab": {
          "base_uri": "https://localhost:8080/"
        },
        "id": "bTHZdjt672LW",
        "outputId": "b49e263e-4243-4ff0-9839-0b5b62f9d9f9"
      },
      "outputs": [
        {
          "name": "stdout",
          "output_type": "stream",
          "text": [
            "Looking in indexes: https://pypi.org/simple, https://us-python.pkg.dev/colab-wheels/public/simple/\n",
            "Requirement already satisfied: mpld3 in /usr/local/lib/python3.7/dist-packages (0.5.8)\n",
            "Requirement already satisfied: matplotlib in /usr/local/lib/python3.7/dist-packages (from mpld3) (3.2.2)\n",
            "Requirement already satisfied: jinja2 in /usr/local/lib/python3.7/dist-packages (from mpld3) (2.11.3)\n",
            "Requirement already satisfied: MarkupSafe>=0.23 in /usr/local/lib/python3.7/dist-packages (from jinja2->mpld3) (2.0.1)\n",
            "Requirement already satisfied: kiwisolver>=1.0.1 in /usr/local/lib/python3.7/dist-packages (from matplotlib->mpld3) (1.4.4)\n",
            "Requirement already satisfied: python-dateutil>=2.1 in /usr/local/lib/python3.7/dist-packages (from matplotlib->mpld3) (2.8.2)\n",
            "Requirement already satisfied: numpy>=1.11 in /usr/local/lib/python3.7/dist-packages (from matplotlib->mpld3) (1.21.6)\n",
            "Requirement already satisfied: cycler>=0.10 in /usr/local/lib/python3.7/dist-packages (from matplotlib->mpld3) (0.11.0)\n",
            "Requirement already satisfied: pyparsing!=2.0.4,!=2.1.2,!=2.1.6,>=2.0.1 in /usr/local/lib/python3.7/dist-packages (from matplotlib->mpld3) (3.0.9)\n",
            "Requirement already satisfied: typing-extensions in /usr/local/lib/python3.7/dist-packages (from kiwisolver>=1.0.1->matplotlib->mpld3) (4.1.1)\n",
            "Requirement already satisfied: six>=1.5 in /usr/local/lib/python3.7/dist-packages (from python-dateutil>=2.1->matplotlib->mpld3) (1.15.0)\n"
          ]
        }
      ],
      "source": [
        "#instalamos el paquete de graficacion interactivo\n",
        "\n",
        "!pip install mpld3"
      ]
    },
    {
      "cell_type": "code",
      "execution_count": null,
      "metadata": {
        "colab": {
          "base_uri": "https://localhost:8080/",
          "height": 345
        },
        "id": "gRsjPrFJVjoq",
        "outputId": "32fde591-2f1e-4e50-989a-63c50bc4facb"
      },
      "outputs": [
        {
          "name": "stdout",
          "output_type": "stream",
          "text": [
            "la constante ajustada es  [38.34627083]\n",
            "el error asociado al cálculo de la constante es  [0.11052033]\n"
          ]
        },
        {
          "data": {
            "text/html": [
              "\n",
              "\n",
              "<style>\n",
              "\n",
              "</style>\n",
              "\n",
              "<div id=\"fig_el611404763443555368698568365\"></div>\n",
              "<script>\n",
              "function mpld3_load_lib(url, callback){\n",
              "  var s = document.createElement('script');\n",
              "  s.src = url;\n",
              "  s.async = true;\n",
              "  s.onreadystatechange = s.onload = callback;\n",
              "  s.onerror = function(){console.warn(\"failed to load library \" + url);};\n",
              "  document.getElementsByTagName(\"head\")[0].appendChild(s);\n",
              "}\n",
              "\n",
              "if(typeof(mpld3) !== \"undefined\" && mpld3._mpld3IsLoaded){\n",
              "   // already loaded: just create the figure\n",
              "   !function(mpld3){\n",
              "       \n",
              "       mpld3.draw_figure(\"fig_el611404763443555368698568365\", {\"width\": 432.0, \"height\": 288.0, \"axes\": [{\"bbox\": [0.125, 0.125, 0.775, 0.755], \"xlim\": [8.25, 156.75], \"ylim\": [21.86617252809146, 199980.5155796127], \"xdomain\": [8.25, 156.75], \"ydomain\": [21.86617252809146, 199980.5155796127], \"xscale\": \"linear\", \"yscale\": \"log\", \"axes\": [{\"position\": \"bottom\", \"nticks\": 9, \"tickvalues\": null, \"tickformat_formatter\": \"\", \"tickformat\": null, \"scale\": \"linear\", \"fontsize\": 10.0, \"grid\": {\"gridOn\": false}, \"visible\": true}, {\"position\": \"left\", \"nticks\": 8, \"tickvalues\": null, \"tickformat_formatter\": \"\", \"tickformat\": null, \"scale\": \"log\", \"fontsize\": 10.0, \"grid\": {\"gridOn\": false}, \"visible\": true}], \"axesbg\": \"#FFFFFF\", \"axesbgalpha\": null, \"zoomable\": true, \"id\": \"el61140476337702608\", \"lines\": [{\"data\": \"data02\", \"xindex\": 0, \"yindex\": 1, \"coordinates\": \"data\", \"id\": \"el61140476403135056\", \"color\": \"#FF0000\", \"linewidth\": 1.5, \"dasharray\": \"none\", \"alpha\": 1, \"zorder\": 2, \"drawstyle\": \"default\"}, {\"data\": \"data04\", \"xindex\": 0, \"yindex\": 1, \"coordinates\": \"axes\", \"id\": \"el61140476403101072\", \"color\": \"#FF0000\", \"linewidth\": 1.5, \"dasharray\": \"none\", \"alpha\": 1, \"zorder\": 1000002.0, \"drawstyle\": \"default\"}], \"paths\": [{\"data\": \"data05\", \"xindex\": 0, \"yindex\": 1, \"coordinates\": \"axes\", \"pathcodes\": [\"M\", \"L\", \"S\", \"L\", \"S\", \"L\", \"S\", \"L\", \"S\", \"Z\"], \"id\": \"el61140476337217616\", \"dasharray\": \"none\", \"alpha\": 0.8, \"facecolor\": \"rgba(255, 255, 255, 0.8)\", \"edgecolor\": \"rgba(204, 204, 204, 0.8)\", \"edgewidth\": 1.0, \"zorder\": 1000000.0}], \"markers\": [{\"data\": \"data01\", \"xindex\": 0, \"yindex\": 1, \"coordinates\": \"data\", \"id\": \"el61140476338441808pts\", \"facecolor\": \"#008000\", \"edgecolor\": \"#008000\", \"edgewidth\": 1.0, \"alpha\": 1, \"zorder\": 2, \"markerpath\": [[[1.8369701987210297e-16, -3.0], [-0.6735419450314403, -0.9270509558202635], [-2.8531695488854605, -0.9270509831248426], [-1.089813759909584, 0.3541019558202634], [-1.7633557568774196, 2.427050983124842], [-2.1049804767740306e-16, 1.145898], [1.7633557568774187, 2.427050983124843], [1.089813759909584, 0.35410195582026377], [2.853169548885461, -0.9270509831248415], [0.6735419450314407, -0.9270509558202634]], [\"M\", \"L\", \"L\", \"L\", \"L\", \"L\", \"L\", \"L\", \"L\", \"L\", \"Z\"]]}, {\"data\": \"data03\", \"xindex\": 0, \"yindex\": 1, \"coordinates\": \"axes\", \"id\": \"el61140476403101520pts\", \"facecolor\": \"#008000\", \"edgecolor\": \"#008000\", \"edgewidth\": 1.0, \"alpha\": 1, \"zorder\": 1000002.0, \"markerpath\": [[[1.8369701987210297e-16, -3.0], [-0.6735419450314403, -0.9270509558202635], [-2.8531695488854605, -0.9270509831248426], [-1.089813759909584, 0.3541019558202634], [-1.7633557568774196, 2.427050983124842], [-2.1049804767740306e-16, 1.145898], [1.7633557568774187, 2.427050983124843], [1.089813759909584, 0.35410195582026377], [2.853169548885461, -0.9270509831248415], [0.6735419450314407, -0.9270509558202634]], [\"M\", \"L\", \"L\", \"L\", \"L\", \"L\", \"L\", \"L\", \"L\", \"L\", \"Z\"]]}], \"texts\": [{\"text\": \"Angulo [\\u00b0]\", \"position\": [0.49999999999999994, -0.09657836644591611], \"coordinates\": \"axes\", \"h_anchor\": \"middle\", \"v_baseline\": \"hanging\", \"rotation\": -0.0, \"fontsize\": 10.0, \"color\": \"#000000\", \"alpha\": 1, \"zorder\": 3, \"id\": \"el61140476342562064\"}, {\"text\": \"N. centelleos\", \"position\": [-0.089143471848865, 0.49999999999999994], \"coordinates\": \"axes\", \"h_anchor\": \"middle\", \"v_baseline\": \"auto\", \"rotation\": -90.0, \"fontsize\": 10.0, \"color\": \"#000000\", \"alpha\": 1, \"zorder\": 3, \"id\": \"el61140476337220816\"}, {\"text\": \"Numero de centelleos vs angulo de dispersion. Exp. Geiger y Marsden\", \"position\": [0.49999999999999994, 1.0275938189845473], \"coordinates\": \"axes\", \"h_anchor\": \"middle\", \"v_baseline\": \"auto\", \"rotation\": -0.0, \"fontsize\": 12.0, \"color\": \"#000000\", \"alpha\": 1, \"zorder\": 3, \"id\": \"el61140476337416016\"}, {\"text\": \"Experimental\", \"position\": [0.7744922341696535, 0.9218175128771156], \"coordinates\": \"axes\", \"h_anchor\": \"start\", \"v_baseline\": \"auto\", \"rotation\": -0.0, \"fontsize\": 10.0, \"color\": \"#000000\", \"alpha\": 1, \"zorder\": 1000003.0, \"id\": \"el61140476403098576\"}, {\"text\": \"Ajuste\", \"position\": [0.7744922341696535, 0.8528329654157469], \"coordinates\": \"axes\", \"h_anchor\": \"start\", \"v_baseline\": \"auto\", \"rotation\": -0.0, \"fontsize\": 10.0, \"color\": \"#000000\", \"alpha\": 1, \"zorder\": 1000003.0, \"id\": \"el61140476403097680\"}], \"collections\": [], \"images\": [], \"sharex\": [], \"sharey\": []}], \"data\": {\"data01\": [[150.0, 33.1], [135.0, 43.0], [120.0, 51.9], [105.0, 69.5], [75.0, 211.0], [60.0, 477.0], [37.5, 3300.0], [30.0, 7800.0], [22.5, 27300.0], [15.0, 132000.0]], \"data02\": [[15.0, 132109.01679518112], [16.0, 102212.00776912185], [17.0, 80336.84798505377], [18.0, 64031.454906751795], [19.0, 51675.682296487874], [20.0, 42173.74960931844], [21.0, 34768.90084795881], [22.0, 28928.62258262122], [23.0, 24271.795147499553], [24.0, 20521.4240289369], [25.0, 17473.348258161626], [26.0, 14975.143858677833], [27.0, 12911.661197924588], [28.0, 11194.95695785054], [29.0, 9757.185613882759], [30.0, 8545.514452685458], [31.0, 7518.441747927984], [32.0, 6643.100687347923], [33.0, 5893.264274294077], [34.0, 5247.854378357455], [35.0, 4689.817240358034], [36.0, 4205.268005097015], [37.0, 3782.8346100315925], [38.0, 3413.1507053215223], [39.0, 3088.4609114357722], [40.0, 2802.311420452774], [41.0, 2549.305915484605], [42.0, 2324.9118335499425], [43.0, 2125.305689451294], [44.0, 1947.2488990257511], [45.0, 1787.9875604729123], [46.0, 1645.1711635867248], [47.0, 1516.7863348125506], [48.0, 1401.102588867678], [49.0, 1296.6277159130439], [50.0, 1202.0709384747834], [51.0, 1116.3123623020324], [52.0, 1038.3775480526554], [53.0, 967.416266898164], [54.0, 902.6846883794697], [55.0, 843.5303948278734], [56.0, 789.3797322486439], [57.0, 739.7270994898507], [58.0, 694.1258509453925], [59.0, 652.1805469355721], [60.0, 613.540333336766], [61.0, 577.8932703740462], [62.0, 544.9614616033571], [63.0, 514.4968594473465], [64.0, 486.2776443550603], [65.0, 460.10509163404953], [66.0, 435.80085397047804], [67.0, 413.2045991788721], [68.0, 392.1719522639059], [69.0, 372.57269879733985], [70.0, 354.28921320790823], [71.0, 337.2150810878373], [72.0, 321.2538892289186], [73.0, 306.3181609698069], [74.0, 292.32841769168044], [75.0, 279.21235004556127], [76.0, 266.9040848167047], [77.0, 255.34353529958696], [78.0, 244.47582472890429], [79.0, 234.25077373535674], [80.0, 224.6224440094071], [81.0, 215.54873139448028], [82.0, 206.99100252060433], [83.0, 198.91376985306925], [84.0, 191.2844006874493], [85.0, 184.0728561882511], [86.0, 177.25145705703815], [87.0, 170.7946728384147], [88.0, 164.67893223833886], [89.0, 158.88245214693882], [90.0, 153.3850833341915], [91.0, 148.16817102730656], [92.0, 143.21442878839122], [93.0, 138.50782429416398], [94.0, 134.0334757797544], [95.0, 129.7775580490331], [96.0, 125.72721707711435], [97.0, 121.87049233892148], [98.0, 118.19624609295208], [99.0, 114.69409893329637], [100.0, 111.3543709970054], [101.0, 108.16802827931191], [102.0, 105.1266335670679], [103.0, 102.22230155200104], [104.0, 99.44765773083981], [105.0, 96.79580073969606], [106.0, 94.26026780595816], [107.0, 91.83500303286306], [108.0, 89.51432826034724], [109.0, 87.29291627113999], [110.0, 85.16576613370566], [111.0, 83.12818049388733], [112.0, 81.17574464521297], [113.0, 79.30430722405485], [114.0, 77.50996239037786], [115.0, 75.78903336787272], [116.0, 74.13805722900078], [117.0, 72.55377082102777], [118.0, 71.03309773862274], [119.0, 69.57313625715366], [120.0, 68.17114814852955], [121.0, 66.82454830840427], [122.0, 65.53089512985137], [123.0, 64.28788156430798], [124.0, 63.093326815738905], [125.0, 61.94516861863319], [126.0, 60.84145605467795], [127.0, 59.78034286678805], [128.0, 58.76008123265588], [129.0, 57.77901596315007], [130.0, 56.835579093772246], [131.0, 55.92828484000071], [132.0, 55.05572488973665], [133.0, 54.2165640082449], [134.0, 53.409535932965646], [135.0, 52.63343953738493], [136.0, 51.887135244808235], [137.0, 51.16954167439304], [138.0, 50.479632503182444], [139.0, 49.81643352914813], [140.0, 49.179019921413186], [141.0, 48.566513644889305], [142.0, 47.978081047540336], [143.0, 47.4129305993806], [144.0, 46.87031077314087], [145.0, 46.34950805729176], [146.0, 45.84984509281247], [147.0, 45.3706789257338], [148.0, 44.91139936807572], [149.0, 44.4714274603458]], \"data03\": [[0.7207287933094384, 0.9379139072847682]], \"data04\": [[0.6908602150537634, 0.8689293598233996], [0.7505973715651134, 0.8689293598233996]], \"data05\": [[0.6848864994026285, 0.8252391464311994], [0.9790919952210274, 0.8252391464311994], [0.9850657108721624, 0.8252391464311994], [0.9850657108721624, 0.8344370860927152], [0.9850657108721624, 0.9678072111846947], [0.9850657108721624, 0.9770051508462105], [0.9790919952210274, 0.9770051508462105], [0.6848864994026285, 0.9770051508462105], [0.6789127837514934, 0.9770051508462105], [0.6789127837514934, 0.9678072111846947], [0.6789127837514934, 0.8344370860927152], [0.6789127837514934, 0.8252391464311994], [0.6848864994026285, 0.8252391464311994]]}, \"id\": \"el61140476344355536\", \"plugins\": [{\"type\": \"reset\"}, {\"type\": \"zoom\", \"button\": true, \"enabled\": false}, {\"type\": \"boxzoom\", \"button\": true, \"enabled\": false}]});\n",
              "   }(mpld3);\n",
              "}else if(typeof define === \"function\" && define.amd){\n",
              "   // require.js is available: use it to load d3/mpld3\n",
              "   require.config({paths: {d3: \"https://d3js.org/d3.v5\"}});\n",
              "   require([\"d3\"], function(d3){\n",
              "      window.d3 = d3;\n",
              "      mpld3_load_lib(\"https://mpld3.github.io/js/mpld3.v0.5.8.js\", function(){\n",
              "         \n",
              "         mpld3.draw_figure(\"fig_el611404763443555368698568365\", {\"width\": 432.0, \"height\": 288.0, \"axes\": [{\"bbox\": [0.125, 0.125, 0.775, 0.755], \"xlim\": [8.25, 156.75], \"ylim\": [21.86617252809146, 199980.5155796127], \"xdomain\": [8.25, 156.75], \"ydomain\": [21.86617252809146, 199980.5155796127], \"xscale\": \"linear\", \"yscale\": \"log\", \"axes\": [{\"position\": \"bottom\", \"nticks\": 9, \"tickvalues\": null, \"tickformat_formatter\": \"\", \"tickformat\": null, \"scale\": \"linear\", \"fontsize\": 10.0, \"grid\": {\"gridOn\": false}, \"visible\": true}, {\"position\": \"left\", \"nticks\": 8, \"tickvalues\": null, \"tickformat_formatter\": \"\", \"tickformat\": null, \"scale\": \"log\", \"fontsize\": 10.0, \"grid\": {\"gridOn\": false}, \"visible\": true}], \"axesbg\": \"#FFFFFF\", \"axesbgalpha\": null, \"zoomable\": true, \"id\": \"el61140476337702608\", \"lines\": [{\"data\": \"data02\", \"xindex\": 0, \"yindex\": 1, \"coordinates\": \"data\", \"id\": \"el61140476403135056\", \"color\": \"#FF0000\", \"linewidth\": 1.5, \"dasharray\": \"none\", \"alpha\": 1, \"zorder\": 2, \"drawstyle\": \"default\"}, {\"data\": \"data04\", \"xindex\": 0, \"yindex\": 1, \"coordinates\": \"axes\", \"id\": \"el61140476403101072\", \"color\": \"#FF0000\", \"linewidth\": 1.5, \"dasharray\": \"none\", \"alpha\": 1, \"zorder\": 1000002.0, \"drawstyle\": \"default\"}], \"paths\": [{\"data\": \"data05\", \"xindex\": 0, \"yindex\": 1, \"coordinates\": \"axes\", \"pathcodes\": [\"M\", \"L\", \"S\", \"L\", \"S\", \"L\", \"S\", \"L\", \"S\", \"Z\"], \"id\": \"el61140476337217616\", \"dasharray\": \"none\", \"alpha\": 0.8, \"facecolor\": \"rgba(255, 255, 255, 0.8)\", \"edgecolor\": \"rgba(204, 204, 204, 0.8)\", \"edgewidth\": 1.0, \"zorder\": 1000000.0}], \"markers\": [{\"data\": \"data01\", \"xindex\": 0, \"yindex\": 1, \"coordinates\": \"data\", \"id\": \"el61140476338441808pts\", \"facecolor\": \"#008000\", \"edgecolor\": \"#008000\", \"edgewidth\": 1.0, \"alpha\": 1, \"zorder\": 2, \"markerpath\": [[[1.8369701987210297e-16, -3.0], [-0.6735419450314403, -0.9270509558202635], [-2.8531695488854605, -0.9270509831248426], [-1.089813759909584, 0.3541019558202634], [-1.7633557568774196, 2.427050983124842], [-2.1049804767740306e-16, 1.145898], [1.7633557568774187, 2.427050983124843], [1.089813759909584, 0.35410195582026377], [2.853169548885461, -0.9270509831248415], [0.6735419450314407, -0.9270509558202634]], [\"M\", \"L\", \"L\", \"L\", \"L\", \"L\", \"L\", \"L\", \"L\", \"L\", \"Z\"]]}, {\"data\": \"data03\", \"xindex\": 0, \"yindex\": 1, \"coordinates\": \"axes\", \"id\": \"el61140476403101520pts\", \"facecolor\": \"#008000\", \"edgecolor\": \"#008000\", \"edgewidth\": 1.0, \"alpha\": 1, \"zorder\": 1000002.0, \"markerpath\": [[[1.8369701987210297e-16, -3.0], [-0.6735419450314403, -0.9270509558202635], [-2.8531695488854605, -0.9270509831248426], [-1.089813759909584, 0.3541019558202634], [-1.7633557568774196, 2.427050983124842], [-2.1049804767740306e-16, 1.145898], [1.7633557568774187, 2.427050983124843], [1.089813759909584, 0.35410195582026377], [2.853169548885461, -0.9270509831248415], [0.6735419450314407, -0.9270509558202634]], [\"M\", \"L\", \"L\", \"L\", \"L\", \"L\", \"L\", \"L\", \"L\", \"L\", \"Z\"]]}], \"texts\": [{\"text\": \"Angulo [\\u00b0]\", \"position\": [0.49999999999999994, -0.09657836644591611], \"coordinates\": \"axes\", \"h_anchor\": \"middle\", \"v_baseline\": \"hanging\", \"rotation\": -0.0, \"fontsize\": 10.0, \"color\": \"#000000\", \"alpha\": 1, \"zorder\": 3, \"id\": \"el61140476342562064\"}, {\"text\": \"N. centelleos\", \"position\": [-0.089143471848865, 0.49999999999999994], \"coordinates\": \"axes\", \"h_anchor\": \"middle\", \"v_baseline\": \"auto\", \"rotation\": -90.0, \"fontsize\": 10.0, \"color\": \"#000000\", \"alpha\": 1, \"zorder\": 3, \"id\": \"el61140476337220816\"}, {\"text\": \"Numero de centelleos vs angulo de dispersion. Exp. Geiger y Marsden\", \"position\": [0.49999999999999994, 1.0275938189845473], \"coordinates\": \"axes\", \"h_anchor\": \"middle\", \"v_baseline\": \"auto\", \"rotation\": -0.0, \"fontsize\": 12.0, \"color\": \"#000000\", \"alpha\": 1, \"zorder\": 3, \"id\": \"el61140476337416016\"}, {\"text\": \"Experimental\", \"position\": [0.7744922341696535, 0.9218175128771156], \"coordinates\": \"axes\", \"h_anchor\": \"start\", \"v_baseline\": \"auto\", \"rotation\": -0.0, \"fontsize\": 10.0, \"color\": \"#000000\", \"alpha\": 1, \"zorder\": 1000003.0, \"id\": \"el61140476403098576\"}, {\"text\": \"Ajuste\", \"position\": [0.7744922341696535, 0.8528329654157469], \"coordinates\": \"axes\", \"h_anchor\": \"start\", \"v_baseline\": \"auto\", \"rotation\": -0.0, \"fontsize\": 10.0, \"color\": \"#000000\", \"alpha\": 1, \"zorder\": 1000003.0, \"id\": \"el61140476403097680\"}], \"collections\": [], \"images\": [], \"sharex\": [], \"sharey\": []}], \"data\": {\"data01\": [[150.0, 33.1], [135.0, 43.0], [120.0, 51.9], [105.0, 69.5], [75.0, 211.0], [60.0, 477.0], [37.5, 3300.0], [30.0, 7800.0], [22.5, 27300.0], [15.0, 132000.0]], \"data02\": [[15.0, 132109.01679518112], [16.0, 102212.00776912185], [17.0, 80336.84798505377], [18.0, 64031.454906751795], [19.0, 51675.682296487874], [20.0, 42173.74960931844], [21.0, 34768.90084795881], [22.0, 28928.62258262122], [23.0, 24271.795147499553], [24.0, 20521.4240289369], [25.0, 17473.348258161626], [26.0, 14975.143858677833], [27.0, 12911.661197924588], [28.0, 11194.95695785054], [29.0, 9757.185613882759], [30.0, 8545.514452685458], [31.0, 7518.441747927984], [32.0, 6643.100687347923], [33.0, 5893.264274294077], [34.0, 5247.854378357455], [35.0, 4689.817240358034], [36.0, 4205.268005097015], [37.0, 3782.8346100315925], [38.0, 3413.1507053215223], [39.0, 3088.4609114357722], [40.0, 2802.311420452774], [41.0, 2549.305915484605], [42.0, 2324.9118335499425], [43.0, 2125.305689451294], [44.0, 1947.2488990257511], [45.0, 1787.9875604729123], [46.0, 1645.1711635867248], [47.0, 1516.7863348125506], [48.0, 1401.102588867678], [49.0, 1296.6277159130439], [50.0, 1202.0709384747834], [51.0, 1116.3123623020324], [52.0, 1038.3775480526554], [53.0, 967.416266898164], [54.0, 902.6846883794697], [55.0, 843.5303948278734], [56.0, 789.3797322486439], [57.0, 739.7270994898507], [58.0, 694.1258509453925], [59.0, 652.1805469355721], [60.0, 613.540333336766], [61.0, 577.8932703740462], [62.0, 544.9614616033571], [63.0, 514.4968594473465], [64.0, 486.2776443550603], [65.0, 460.10509163404953], [66.0, 435.80085397047804], [67.0, 413.2045991788721], [68.0, 392.1719522639059], [69.0, 372.57269879733985], [70.0, 354.28921320790823], [71.0, 337.2150810878373], [72.0, 321.2538892289186], [73.0, 306.3181609698069], [74.0, 292.32841769168044], [75.0, 279.21235004556127], [76.0, 266.9040848167047], [77.0, 255.34353529958696], [78.0, 244.47582472890429], [79.0, 234.25077373535674], [80.0, 224.6224440094071], [81.0, 215.54873139448028], [82.0, 206.99100252060433], [83.0, 198.91376985306925], [84.0, 191.2844006874493], [85.0, 184.0728561882511], [86.0, 177.25145705703815], [87.0, 170.7946728384147], [88.0, 164.67893223833886], [89.0, 158.88245214693882], [90.0, 153.3850833341915], [91.0, 148.16817102730656], [92.0, 143.21442878839122], [93.0, 138.50782429416398], [94.0, 134.0334757797544], [95.0, 129.7775580490331], [96.0, 125.72721707711435], [97.0, 121.87049233892148], [98.0, 118.19624609295208], [99.0, 114.69409893329637], [100.0, 111.3543709970054], [101.0, 108.16802827931191], [102.0, 105.1266335670679], [103.0, 102.22230155200104], [104.0, 99.44765773083981], [105.0, 96.79580073969606], [106.0, 94.26026780595816], [107.0, 91.83500303286306], [108.0, 89.51432826034724], [109.0, 87.29291627113999], [110.0, 85.16576613370566], [111.0, 83.12818049388733], [112.0, 81.17574464521297], [113.0, 79.30430722405485], [114.0, 77.50996239037786], [115.0, 75.78903336787272], [116.0, 74.13805722900078], [117.0, 72.55377082102777], [118.0, 71.03309773862274], [119.0, 69.57313625715366], [120.0, 68.17114814852955], [121.0, 66.82454830840427], [122.0, 65.53089512985137], [123.0, 64.28788156430798], [124.0, 63.093326815738905], [125.0, 61.94516861863319], [126.0, 60.84145605467795], [127.0, 59.78034286678805], [128.0, 58.76008123265588], [129.0, 57.77901596315007], [130.0, 56.835579093772246], [131.0, 55.92828484000071], [132.0, 55.05572488973665], [133.0, 54.2165640082449], [134.0, 53.409535932965646], [135.0, 52.63343953738493], [136.0, 51.887135244808235], [137.0, 51.16954167439304], [138.0, 50.479632503182444], [139.0, 49.81643352914813], [140.0, 49.179019921413186], [141.0, 48.566513644889305], [142.0, 47.978081047540336], [143.0, 47.4129305993806], [144.0, 46.87031077314087], [145.0, 46.34950805729176], [146.0, 45.84984509281247], [147.0, 45.3706789257338], [148.0, 44.91139936807572], [149.0, 44.4714274603458]], \"data03\": [[0.7207287933094384, 0.9379139072847682]], \"data04\": [[0.6908602150537634, 0.8689293598233996], [0.7505973715651134, 0.8689293598233996]], \"data05\": [[0.6848864994026285, 0.8252391464311994], [0.9790919952210274, 0.8252391464311994], [0.9850657108721624, 0.8252391464311994], [0.9850657108721624, 0.8344370860927152], [0.9850657108721624, 0.9678072111846947], [0.9850657108721624, 0.9770051508462105], [0.9790919952210274, 0.9770051508462105], [0.6848864994026285, 0.9770051508462105], [0.6789127837514934, 0.9770051508462105], [0.6789127837514934, 0.9678072111846947], [0.6789127837514934, 0.8344370860927152], [0.6789127837514934, 0.8252391464311994], [0.6848864994026285, 0.8252391464311994]]}, \"id\": \"el61140476344355536\", \"plugins\": [{\"type\": \"reset\"}, {\"type\": \"zoom\", \"button\": true, \"enabled\": false}, {\"type\": \"boxzoom\", \"button\": true, \"enabled\": false}]});\n",
              "      });\n",
              "    });\n",
              "}else{\n",
              "    // require.js not available: dynamically load d3 & mpld3\n",
              "    mpld3_load_lib(\"https://d3js.org/d3.v5.js\", function(){\n",
              "         mpld3_load_lib(\"https://mpld3.github.io/js/mpld3.v0.5.8.js\", function(){\n",
              "                 \n",
              "                 mpld3.draw_figure(\"fig_el611404763443555368698568365\", {\"width\": 432.0, \"height\": 288.0, \"axes\": [{\"bbox\": [0.125, 0.125, 0.775, 0.755], \"xlim\": [8.25, 156.75], \"ylim\": [21.86617252809146, 199980.5155796127], \"xdomain\": [8.25, 156.75], \"ydomain\": [21.86617252809146, 199980.5155796127], \"xscale\": \"linear\", \"yscale\": \"log\", \"axes\": [{\"position\": \"bottom\", \"nticks\": 9, \"tickvalues\": null, \"tickformat_formatter\": \"\", \"tickformat\": null, \"scale\": \"linear\", \"fontsize\": 10.0, \"grid\": {\"gridOn\": false}, \"visible\": true}, {\"position\": \"left\", \"nticks\": 8, \"tickvalues\": null, \"tickformat_formatter\": \"\", \"tickformat\": null, \"scale\": \"log\", \"fontsize\": 10.0, \"grid\": {\"gridOn\": false}, \"visible\": true}], \"axesbg\": \"#FFFFFF\", \"axesbgalpha\": null, \"zoomable\": true, \"id\": \"el61140476337702608\", \"lines\": [{\"data\": \"data02\", \"xindex\": 0, \"yindex\": 1, \"coordinates\": \"data\", \"id\": \"el61140476403135056\", \"color\": \"#FF0000\", \"linewidth\": 1.5, \"dasharray\": \"none\", \"alpha\": 1, \"zorder\": 2, \"drawstyle\": \"default\"}, {\"data\": \"data04\", \"xindex\": 0, \"yindex\": 1, \"coordinates\": \"axes\", \"id\": \"el61140476403101072\", \"color\": \"#FF0000\", \"linewidth\": 1.5, \"dasharray\": \"none\", \"alpha\": 1, \"zorder\": 1000002.0, \"drawstyle\": \"default\"}], \"paths\": [{\"data\": \"data05\", \"xindex\": 0, \"yindex\": 1, \"coordinates\": \"axes\", \"pathcodes\": [\"M\", \"L\", \"S\", \"L\", \"S\", \"L\", \"S\", \"L\", \"S\", \"Z\"], \"id\": \"el61140476337217616\", \"dasharray\": \"none\", \"alpha\": 0.8, \"facecolor\": \"rgba(255, 255, 255, 0.8)\", \"edgecolor\": \"rgba(204, 204, 204, 0.8)\", \"edgewidth\": 1.0, \"zorder\": 1000000.0}], \"markers\": [{\"data\": \"data01\", \"xindex\": 0, \"yindex\": 1, \"coordinates\": \"data\", \"id\": \"el61140476338441808pts\", \"facecolor\": \"#008000\", \"edgecolor\": \"#008000\", \"edgewidth\": 1.0, \"alpha\": 1, \"zorder\": 2, \"markerpath\": [[[1.8369701987210297e-16, -3.0], [-0.6735419450314403, -0.9270509558202635], [-2.8531695488854605, -0.9270509831248426], [-1.089813759909584, 0.3541019558202634], [-1.7633557568774196, 2.427050983124842], [-2.1049804767740306e-16, 1.145898], [1.7633557568774187, 2.427050983124843], [1.089813759909584, 0.35410195582026377], [2.853169548885461, -0.9270509831248415], [0.6735419450314407, -0.9270509558202634]], [\"M\", \"L\", \"L\", \"L\", \"L\", \"L\", \"L\", \"L\", \"L\", \"L\", \"Z\"]]}, {\"data\": \"data03\", \"xindex\": 0, \"yindex\": 1, \"coordinates\": \"axes\", \"id\": \"el61140476403101520pts\", \"facecolor\": \"#008000\", \"edgecolor\": \"#008000\", \"edgewidth\": 1.0, \"alpha\": 1, \"zorder\": 1000002.0, \"markerpath\": [[[1.8369701987210297e-16, -3.0], [-0.6735419450314403, -0.9270509558202635], [-2.8531695488854605, -0.9270509831248426], [-1.089813759909584, 0.3541019558202634], [-1.7633557568774196, 2.427050983124842], [-2.1049804767740306e-16, 1.145898], [1.7633557568774187, 2.427050983124843], [1.089813759909584, 0.35410195582026377], [2.853169548885461, -0.9270509831248415], [0.6735419450314407, -0.9270509558202634]], [\"M\", \"L\", \"L\", \"L\", \"L\", \"L\", \"L\", \"L\", \"L\", \"L\", \"Z\"]]}], \"texts\": [{\"text\": \"Angulo [\\u00b0]\", \"position\": [0.49999999999999994, -0.09657836644591611], \"coordinates\": \"axes\", \"h_anchor\": \"middle\", \"v_baseline\": \"hanging\", \"rotation\": -0.0, \"fontsize\": 10.0, \"color\": \"#000000\", \"alpha\": 1, \"zorder\": 3, \"id\": \"el61140476342562064\"}, {\"text\": \"N. centelleos\", \"position\": [-0.089143471848865, 0.49999999999999994], \"coordinates\": \"axes\", \"h_anchor\": \"middle\", \"v_baseline\": \"auto\", \"rotation\": -90.0, \"fontsize\": 10.0, \"color\": \"#000000\", \"alpha\": 1, \"zorder\": 3, \"id\": \"el61140476337220816\"}, {\"text\": \"Numero de centelleos vs angulo de dispersion. Exp. Geiger y Marsden\", \"position\": [0.49999999999999994, 1.0275938189845473], \"coordinates\": \"axes\", \"h_anchor\": \"middle\", \"v_baseline\": \"auto\", \"rotation\": -0.0, \"fontsize\": 12.0, \"color\": \"#000000\", \"alpha\": 1, \"zorder\": 3, \"id\": \"el61140476337416016\"}, {\"text\": \"Experimental\", \"position\": [0.7744922341696535, 0.9218175128771156], \"coordinates\": \"axes\", \"h_anchor\": \"start\", \"v_baseline\": \"auto\", \"rotation\": -0.0, \"fontsize\": 10.0, \"color\": \"#000000\", \"alpha\": 1, \"zorder\": 1000003.0, \"id\": \"el61140476403098576\"}, {\"text\": \"Ajuste\", \"position\": [0.7744922341696535, 0.8528329654157469], \"coordinates\": \"axes\", \"h_anchor\": \"start\", \"v_baseline\": \"auto\", \"rotation\": -0.0, \"fontsize\": 10.0, \"color\": \"#000000\", \"alpha\": 1, \"zorder\": 1000003.0, \"id\": \"el61140476403097680\"}], \"collections\": [], \"images\": [], \"sharex\": [], \"sharey\": []}], \"data\": {\"data01\": [[150.0, 33.1], [135.0, 43.0], [120.0, 51.9], [105.0, 69.5], [75.0, 211.0], [60.0, 477.0], [37.5, 3300.0], [30.0, 7800.0], [22.5, 27300.0], [15.0, 132000.0]], \"data02\": [[15.0, 132109.01679518112], [16.0, 102212.00776912185], [17.0, 80336.84798505377], [18.0, 64031.454906751795], [19.0, 51675.682296487874], [20.0, 42173.74960931844], [21.0, 34768.90084795881], [22.0, 28928.62258262122], [23.0, 24271.795147499553], [24.0, 20521.4240289369], [25.0, 17473.348258161626], [26.0, 14975.143858677833], [27.0, 12911.661197924588], [28.0, 11194.95695785054], [29.0, 9757.185613882759], [30.0, 8545.514452685458], [31.0, 7518.441747927984], [32.0, 6643.100687347923], [33.0, 5893.264274294077], [34.0, 5247.854378357455], [35.0, 4689.817240358034], [36.0, 4205.268005097015], [37.0, 3782.8346100315925], [38.0, 3413.1507053215223], [39.0, 3088.4609114357722], [40.0, 2802.311420452774], [41.0, 2549.305915484605], [42.0, 2324.9118335499425], [43.0, 2125.305689451294], [44.0, 1947.2488990257511], [45.0, 1787.9875604729123], [46.0, 1645.1711635867248], [47.0, 1516.7863348125506], [48.0, 1401.102588867678], [49.0, 1296.6277159130439], [50.0, 1202.0709384747834], [51.0, 1116.3123623020324], [52.0, 1038.3775480526554], [53.0, 967.416266898164], [54.0, 902.6846883794697], [55.0, 843.5303948278734], [56.0, 789.3797322486439], [57.0, 739.7270994898507], [58.0, 694.1258509453925], [59.0, 652.1805469355721], [60.0, 613.540333336766], [61.0, 577.8932703740462], [62.0, 544.9614616033571], [63.0, 514.4968594473465], [64.0, 486.2776443550603], [65.0, 460.10509163404953], [66.0, 435.80085397047804], [67.0, 413.2045991788721], [68.0, 392.1719522639059], [69.0, 372.57269879733985], [70.0, 354.28921320790823], [71.0, 337.2150810878373], [72.0, 321.2538892289186], [73.0, 306.3181609698069], [74.0, 292.32841769168044], [75.0, 279.21235004556127], [76.0, 266.9040848167047], [77.0, 255.34353529958696], [78.0, 244.47582472890429], [79.0, 234.25077373535674], [80.0, 224.6224440094071], [81.0, 215.54873139448028], [82.0, 206.99100252060433], [83.0, 198.91376985306925], [84.0, 191.2844006874493], [85.0, 184.0728561882511], [86.0, 177.25145705703815], [87.0, 170.7946728384147], [88.0, 164.67893223833886], [89.0, 158.88245214693882], [90.0, 153.3850833341915], [91.0, 148.16817102730656], [92.0, 143.21442878839122], [93.0, 138.50782429416398], [94.0, 134.0334757797544], [95.0, 129.7775580490331], [96.0, 125.72721707711435], [97.0, 121.87049233892148], [98.0, 118.19624609295208], [99.0, 114.69409893329637], [100.0, 111.3543709970054], [101.0, 108.16802827931191], [102.0, 105.1266335670679], [103.0, 102.22230155200104], [104.0, 99.44765773083981], [105.0, 96.79580073969606], [106.0, 94.26026780595816], [107.0, 91.83500303286306], [108.0, 89.51432826034724], [109.0, 87.29291627113999], [110.0, 85.16576613370566], [111.0, 83.12818049388733], [112.0, 81.17574464521297], [113.0, 79.30430722405485], [114.0, 77.50996239037786], [115.0, 75.78903336787272], [116.0, 74.13805722900078], [117.0, 72.55377082102777], [118.0, 71.03309773862274], [119.0, 69.57313625715366], [120.0, 68.17114814852955], [121.0, 66.82454830840427], [122.0, 65.53089512985137], [123.0, 64.28788156430798], [124.0, 63.093326815738905], [125.0, 61.94516861863319], [126.0, 60.84145605467795], [127.0, 59.78034286678805], [128.0, 58.76008123265588], [129.0, 57.77901596315007], [130.0, 56.835579093772246], [131.0, 55.92828484000071], [132.0, 55.05572488973665], [133.0, 54.2165640082449], [134.0, 53.409535932965646], [135.0, 52.63343953738493], [136.0, 51.887135244808235], [137.0, 51.16954167439304], [138.0, 50.479632503182444], [139.0, 49.81643352914813], [140.0, 49.179019921413186], [141.0, 48.566513644889305], [142.0, 47.978081047540336], [143.0, 47.4129305993806], [144.0, 46.87031077314087], [145.0, 46.34950805729176], [146.0, 45.84984509281247], [147.0, 45.3706789257338], [148.0, 44.91139936807572], [149.0, 44.4714274603458]], \"data03\": [[0.7207287933094384, 0.9379139072847682]], \"data04\": [[0.6908602150537634, 0.8689293598233996], [0.7505973715651134, 0.8689293598233996]], \"data05\": [[0.6848864994026285, 0.8252391464311994], [0.9790919952210274, 0.8252391464311994], [0.9850657108721624, 0.8252391464311994], [0.9850657108721624, 0.8344370860927152], [0.9850657108721624, 0.9678072111846947], [0.9850657108721624, 0.9770051508462105], [0.9790919952210274, 0.9770051508462105], [0.6848864994026285, 0.9770051508462105], [0.6789127837514934, 0.9770051508462105], [0.6789127837514934, 0.9678072111846947], [0.6789127837514934, 0.8344370860927152], [0.6789127837514934, 0.8252391464311994], [0.6848864994026285, 0.8252391464311994]]}, \"id\": \"el61140476344355536\", \"plugins\": [{\"type\": \"reset\"}, {\"type\": \"zoom\", \"button\": true, \"enabled\": false}, {\"type\": \"boxzoom\", \"button\": true, \"enabled\": false}]});\n",
              "            })\n",
              "         });\n",
              "}\n",
              "</script>"
            ],
            "text/plain": [
              "<IPython.core.display.HTML object>"
            ]
          },
          "execution_count": 99,
          "metadata": {},
          "output_type": "execute_result"
        }
      ],
      "source": [
        "#importamos la librerias necesarias para el ajuste\n",
        "\n",
        "import scipy\n",
        "from scipy import optimize\n",
        "import mpld3\n",
        "from mpld3 import plugins\n",
        "\n",
        "#ingresamos manualmente la data sacada de la tabla del ejercicio\n",
        "ang = np.array([150,135,120,105,75,60,37.5,30,22.5,15])\n",
        "\n",
        "P = np.array([33.1,43.0,51.9,69.5,211,477,3300,7800,27300,132000])\n",
        "\n",
        "#definimos la funcion rutherford para el modelo de dispersion\n",
        "def rutherford(theta, a):\n",
        "    return a/(np.sin(0.5*theta*np.pi/180))**4\n",
        "\n",
        "#implementamos la libreria que permite fitear los datos\n",
        "popt,cov = scipy.optimize.curve_fit(rutherford, ang, P)\n",
        "\n",
        "#a corresponde a la constante que buscamos medir\n",
        "a = popt\n",
        "\n",
        "#calculamos la diagonal de la matriz de covarianza\n",
        "perr = np.sqrt(np.diag(cov))\n",
        "\n",
        "#creamos arreglos para las nuevas variables del fiteo o ajuste\n",
        "x_new_value = np.arange(min(ang), max(ang))\n",
        "y_new_value = rutherford(x_new_value, a)\n",
        "\n",
        "#graficando\n",
        "fig, ax = plt.subplots()\n",
        "\n",
        "print(\"la constante ajustada es \", a)\n",
        "print(\"el error asociado al cálculo de la constante es \", perr)\n",
        "\n",
        "#graficamos el eje y en escala log debido a que los ordenes de magnitud de los ejes\n",
        "#difieren bastante y no es posible observar los errores del ajuste con una\n",
        "#grafica lineal\n",
        "\n",
        "plt.plot(ang,P,'*',color=\"green\",label=\"Experimental\")\n",
        "plt.plot(x_new_value,y_new_value, color=\"red\",label=\"Ajuste\")\n",
        "plt.title(\"Numero de centelleos vs angulo de dispersion. Exp. Geiger y Marsden\")\n",
        "plt.xlabel(\"Angulo [°]\")\n",
        "plt.ylabel(\"N. centelleos\")\n",
        "plt.yscale('log')\n",
        "\n",
        "plt.legend()\n",
        "mpld3.display()"
      ]
    },
    {
      "cell_type": "markdown",
      "metadata": {
        "id": "HK66ymA1fsUL"
      },
      "source": [
        "We can observe that the error associated with the fit is low with respect to the order of magnitude of the constant. The goodness of fit can also be seen in the graph, where the distance of the experimental points to the fit graph is not large.\n",
        "\n",
        "From the point of view of the experiment, it is possible to observe that the number of scintillations is high for small scattering angles and decreases drastically for large angles, however it does not reach zero for these, which indicates that alpha particles were measured that almost returned in a \"straight line\", an almost impossible result if the existence of the nucleus is not considered."
      ]
    },
    {
      "cell_type": "markdown",
      "metadata": {
        "id": "uju469yFVuH1"
      },
      "source": [
        "##PUNTO 4"
      ]
    },
    {
      "cell_type": "markdown",
      "metadata": {
        "id": "YsBt9qoSfHnW"
      },
      "source": [
        "\"The total binding energy released in the fission of an atomic nucleus varies with the precise breakup, but averages about 200 MeV* for U-235 or 3.2 x 10-11 joules. This is about 82 TJ/kg. That of U-233 is about the same, and that of Pu-239 is about 210 MeV* per fission. (This contrasts with the 4 eV or 6.5 x 10-19 J per carbon atom burned in fossil fuels.)]\"\n",
        "\n",
        "https://world-nuclear.org/information-library/nuclear-fuel-cycle/introduction/physics-of-nuclear-energy.aspx"
      ]
    },
    {
      "cell_type": "code",
      "execution_count": null,
      "metadata": {
        "colab": {
          "base_uri": "https://localhost:8080/"
        },
        "id": "VulQk95GfKfj",
        "outputId": "592965da-bf18-478c-9586-9ee13bd0532b"
      },
      "outputs": [
        {
          "name": "stdout",
          "output_type": "stream",
          "text": [
            "la energia liberada por 1 g de fision de U238 es aprox\n",
            "80941176470.58824 J\n"
          ]
        }
      ],
      "source": [
        "A238 = 238 # g/mol\n",
        "E_fis = 200*(10**6)*(1.6*10**(-19)) # J/atomo\n",
        "Avo = 6.02*(10**23)\n",
        "\n",
        "atom = Avo/A238\n",
        "print(\"la energia liberada por 1 g de fision de U238 es aprox\")\n",
        "print(E_fis*atom,\"J\")"
      ]
    },
    {
      "cell_type": "code",
      "execution_count": null,
      "metadata": {
        "colab": {
          "base_uri": "https://localhost:8080/"
        },
        "id": "moX563CnfW3u",
        "outputId": "9d11b08b-a8d4-44da-b8f6-ade87ff3dfc7"
      },
      "outputs": [
        {
          "name": "stdout",
          "output_type": "stream",
          "text": [
            "la energia liberada por la combustion de 1 g de C es aprox\n",
            "137026.0 J\n"
          ]
        }
      ],
      "source": [
        "#1 kcal =4184 J\n",
        "E_C = 393 #kcal/mol\n",
        "A6 = 12 #g/mol\n",
        "\n",
        "E_Cs = (E_C/A6)*4184\n",
        "print(\"la energia liberada por la combustion de 1 g de C es aprox\")\n",
        "print(E_Cs, \"J\")"
      ]
    },
    {
      "cell_type": "code",
      "execution_count": null,
      "metadata": {
        "colab": {
          "base_uri": "https://localhost:8080/"
        },
        "id": "bEri2Enj2dEf",
        "outputId": "e4965a0c-0c2a-47cf-f31a-17c0b006a2a6"
      },
      "outputs": [
        {
          "name": "stdout",
          "output_type": "stream",
          "text": [
            "el ratio de energía entre fision y combustion de C es \n",
            "590699.4035481459\n"
          ]
        }
      ],
      "source": [
        "R = E_fis*atom/E_Cs\n",
        "print(\"el ratio de energía entre fision y combustion de C es \")\n",
        "print(R)"
      ]
    },
    {
      "cell_type": "markdown",
      "metadata": {
        "id": "Hh5Zx-86jK3M"
      },
      "source": [
        "We are directly calculating that the same amount of fissile material is on the order of 10^5 more efficient than coal."
      ]
    },
    {
      "cell_type": "markdown",
      "metadata": {
        "id": "ip2rA-iw5x2v"
      },
      "source": [
        "\n",
        "\"Although not strictly from uranium, a lot of research is being done to harness nuclear fusion energy. There are several possible reactions, but the one that is technologically within reach is the deuterium-tritium reaction. It has been demonstrated to be possible in a small reactor, the Joint European Torus (JET), where 16 MW was briefly achieved and 5 MW was sustained in 1997. The reaction is: H-2 + H-3 ===> He-4 + neutron + 17.6 MeV\"."
      ]
    },
    {
      "cell_type": "code",
      "execution_count": null,
      "metadata": {
        "colab": {
          "base_uri": "https://localhost:8080/"
        },
        "id": "XzYyEGei8sBu",
        "outputId": "1a595335-4efc-4a50-d376-152d5ce11c5e"
      },
      "outputs": [
        {
          "name": "stdout",
          "output_type": "stream",
          "text": [
            "la energia liberada por 1 g de He por fusion es\n",
            "423807999999.99994 J\n"
          ]
        }
      ],
      "source": [
        "A_He = 4 #g/mol\n",
        "E_F = 17.6 #MeV\n",
        "E = E_F*(10**6)*(1.6*10**(-19)) # J\n",
        "\n",
        "atoms = Avo/(A_He)\n",
        "\n",
        "print(\"la energia liberada por 1 g de He por fusion es\")\n",
        "print(E*atoms, \"J\")"
      ]
    },
    {
      "cell_type": "code",
      "execution_count": null,
      "metadata": {
        "colab": {
          "base_uri": "https://localhost:8080/"
        },
        "id": "LDfAQCOz9DjC",
        "outputId": "debd18ec-ee3b-4da5-acfe-d1638df4e066"
      },
      "outputs": [
        {
          "name": "stdout",
          "output_type": "stream",
          "text": [
            "el ratio entre energia fusion y energia fusion es\n",
            "5.235999999999999 para 1 g de 'combustible'\n"
          ]
        }
      ],
      "source": [
        "print(\"el ratio entre energia fusion y energia fusion es\")\n",
        "print(E*atoms/(E_fis*atom), \"para 1 g de 'combustible'\")"
      ]
    },
    {
      "cell_type": "code",
      "execution_count": null,
      "metadata": {
        "colab": {
          "base_uri": "https://localhost:8080/"
        },
        "id": "VaDaH4bL-SNy",
        "outputId": "03de439e-ab82-4557-a6a9-f90e1d02904c"
      },
      "outputs": [
        {
          "name": "stdout",
          "output_type": "stream",
          "text": [
            "el ratio entre energia fusion y energia de combustion por C es\n",
            "3092902.076978091 para 1 g de 'combustible'\n"
          ]
        }
      ],
      "source": [
        "print(\"el ratio entre energia fusion y energia de combustion por C es\")\n",
        "print(E*atoms/(E_Cs), \"para 1 g de 'combustible'\")"
      ]
    },
    {
      "cell_type": "markdown",
      "metadata": {
        "id": "EN42Rg75jy_V"
      },
      "source": [
        "The first consideration to take into account is environmental. Certainly with fission nuclear power, it is possible to save large amounts of greenhouse gases released into the atmosphere by comparing energy efficiency per unit mass of material and I personally consider it a big mistake on the part of the world powers to have discouraged the technological evolution of nuclear power plants at the end of the last century as well as new methods of radioactive waste disposal. I would think that more research can be done to find ways to continue to make use of such wastes until a way can be found to safely terminate their useful life.\n",
        "\n",
        "On the other hand, although fusion promises to be a power generation method with great pros, it is years away before engineering catches up with scientific knowledge and stable plasmas with energy surplus are achieved. While these technologies are being developed, it is essential to work with what we have and to encourage research and the start-up of modern nuclear power plants."
      ]
    }
  ],
  "metadata": {
    "colab": {
      "provenance": []
    },
    "kernelspec": {
      "display_name": "Python 3",
      "name": "python3"
    },
    "language_info": {
      "name": "python"
    }
  },
  "nbformat": 4,
  "nbformat_minor": 0
}
