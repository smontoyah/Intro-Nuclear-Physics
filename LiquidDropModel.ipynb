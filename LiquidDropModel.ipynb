{
  "cells": [
    {
      "cell_type": "markdown",
      "source": [
        "1) A continuación se obtienen los datos experimentales de Z, N, A y BE, sus gráficas y los resultados obtenidos del modelo de la gota líquida con los parámetros entregados"
      ],
      "metadata": {
        "id": "-u6llepVMs19"
      }
    },
    {
      "cell_type": "code",
      "execution_count": null,
      "metadata": {
        "id": "mbGW6lkuItZx"
      },
      "outputs": [],
      "source": [
        "#se importan las librerias necesarias\n",
        "#todo el tratamiento de datos se realiza con la libreria pandas\n",
        "\n",
        "import pandas as pd\n",
        "import numpy as np\n",
        "import seaborn as sn\n",
        "import matplotlib.pyplot as plt"
      ]
    },
    {
      "cell_type": "code",
      "execution_count": null,
      "metadata": {
        "id": "1cIsxyZ9ItZ1"
      },
      "outputs": [],
      "source": [
        "#se cargan los datos experimentales y se les da un nombre adecuado\n",
        "df = pd.read_table(\"mymass20.dat\", sep=\"\\s+\")\n",
        "cols=['N', 'Z', 'A', 'NAN', 'NAN1', 'BE/A', 'NAN2', 'Masa', 'NAN4']\n",
        "df.columns = cols\n",
        "\n"
      ]
    },
    {
      "cell_type": "code",
      "execution_count": null,
      "metadata": {
        "colab": {
          "base_uri": "https://localhost:8080/",
          "height": 424
        },
        "id": "KoPXyo9cItZ2",
        "outputId": "10ba253b-0ecd-4e75-f139-289f5e6e908a"
      },
      "outputs": [
        {
          "output_type": "execute_result",
          "data": {
            "text/plain": [
              "        N    Z    A            NAN         NAN1        BE/A       NAN2  \\\n",
              "0       0    1    1    7288.971064     0.000013     0.00000    0.00000   \n",
              "1       1    1    2   13135.722895     0.000015  1112.28310    0.00020   \n",
              "2       2    1    3   14949.810900     0.000080  2827.26540    0.00036   \n",
              "3       1    2    3   14931.218880     0.000060  2572.68044    0.00015   \n",
              "4       0    3    3   28667.000000  2000.000000 -2267.00000  667.00000   \n",
              "...   ...  ...  ...            ...          ...         ...        ...   \n",
              "3552  176  117  293  194428.000000   778.000000  7095.00000    3.00000   \n",
              "3553  175  118  293  198802.000000   709.000000  7078.00000    2.00000   \n",
              "3554  177  117  294  196397.000000   593.000000  7092.00000    2.00000   \n",
              "3555  176  118  294  199320.000000   553.000000  7079.00000    2.00000   \n",
              "3556  177  118  295  201369.000000   655.000000  7076.00000    2.00000   \n",
              "\n",
              "              Masa         NAN4  \n",
              "0     1.007825e+06     0.000014  \n",
              "1     2.014102e+06     0.000015  \n",
              "2     3.016049e+06     0.000080  \n",
              "3     3.016029e+06     0.000060  \n",
              "4     3.030775e+06  2147.000000  \n",
              "...            ...          ...  \n",
              "3552  2.932087e+08   835.000000  \n",
              "3553  2.932134e+08   761.000000  \n",
              "3554  2.942108e+08   637.000000  \n",
              "3555  2.942140e+08   594.000000  \n",
              "3556  2.952162e+08   703.000000  \n",
              "\n",
              "[3557 rows x 9 columns]"
            ],
            "text/html": [
              "\n",
              "  <div id=\"df-0d000dd1-4185-439e-801a-1e48db5e134a\">\n",
              "    <div class=\"colab-df-container\">\n",
              "      <div>\n",
              "<style scoped>\n",
              "    .dataframe tbody tr th:only-of-type {\n",
              "        vertical-align: middle;\n",
              "    }\n",
              "\n",
              "    .dataframe tbody tr th {\n",
              "        vertical-align: top;\n",
              "    }\n",
              "\n",
              "    .dataframe thead th {\n",
              "        text-align: right;\n",
              "    }\n",
              "</style>\n",
              "<table border=\"1\" class=\"dataframe\">\n",
              "  <thead>\n",
              "    <tr style=\"text-align: right;\">\n",
              "      <th></th>\n",
              "      <th>N</th>\n",
              "      <th>Z</th>\n",
              "      <th>A</th>\n",
              "      <th>NAN</th>\n",
              "      <th>NAN1</th>\n",
              "      <th>BE/A</th>\n",
              "      <th>NAN2</th>\n",
              "      <th>Masa</th>\n",
              "      <th>NAN4</th>\n",
              "    </tr>\n",
              "  </thead>\n",
              "  <tbody>\n",
              "    <tr>\n",
              "      <th>0</th>\n",
              "      <td>0</td>\n",
              "      <td>1</td>\n",
              "      <td>1</td>\n",
              "      <td>7288.971064</td>\n",
              "      <td>0.000013</td>\n",
              "      <td>0.00000</td>\n",
              "      <td>0.00000</td>\n",
              "      <td>1.007825e+06</td>\n",
              "      <td>0.000014</td>\n",
              "    </tr>\n",
              "    <tr>\n",
              "      <th>1</th>\n",
              "      <td>1</td>\n",
              "      <td>1</td>\n",
              "      <td>2</td>\n",
              "      <td>13135.722895</td>\n",
              "      <td>0.000015</td>\n",
              "      <td>1112.28310</td>\n",
              "      <td>0.00020</td>\n",
              "      <td>2.014102e+06</td>\n",
              "      <td>0.000015</td>\n",
              "    </tr>\n",
              "    <tr>\n",
              "      <th>2</th>\n",
              "      <td>2</td>\n",
              "      <td>1</td>\n",
              "      <td>3</td>\n",
              "      <td>14949.810900</td>\n",
              "      <td>0.000080</td>\n",
              "      <td>2827.26540</td>\n",
              "      <td>0.00036</td>\n",
              "      <td>3.016049e+06</td>\n",
              "      <td>0.000080</td>\n",
              "    </tr>\n",
              "    <tr>\n",
              "      <th>3</th>\n",
              "      <td>1</td>\n",
              "      <td>2</td>\n",
              "      <td>3</td>\n",
              "      <td>14931.218880</td>\n",
              "      <td>0.000060</td>\n",
              "      <td>2572.68044</td>\n",
              "      <td>0.00015</td>\n",
              "      <td>3.016029e+06</td>\n",
              "      <td>0.000060</td>\n",
              "    </tr>\n",
              "    <tr>\n",
              "      <th>4</th>\n",
              "      <td>0</td>\n",
              "      <td>3</td>\n",
              "      <td>3</td>\n",
              "      <td>28667.000000</td>\n",
              "      <td>2000.000000</td>\n",
              "      <td>-2267.00000</td>\n",
              "      <td>667.00000</td>\n",
              "      <td>3.030775e+06</td>\n",
              "      <td>2147.000000</td>\n",
              "    </tr>\n",
              "    <tr>\n",
              "      <th>...</th>\n",
              "      <td>...</td>\n",
              "      <td>...</td>\n",
              "      <td>...</td>\n",
              "      <td>...</td>\n",
              "      <td>...</td>\n",
              "      <td>...</td>\n",
              "      <td>...</td>\n",
              "      <td>...</td>\n",
              "      <td>...</td>\n",
              "    </tr>\n",
              "    <tr>\n",
              "      <th>3552</th>\n",
              "      <td>176</td>\n",
              "      <td>117</td>\n",
              "      <td>293</td>\n",
              "      <td>194428.000000</td>\n",
              "      <td>778.000000</td>\n",
              "      <td>7095.00000</td>\n",
              "      <td>3.00000</td>\n",
              "      <td>2.932087e+08</td>\n",
              "      <td>835.000000</td>\n",
              "    </tr>\n",
              "    <tr>\n",
              "      <th>3553</th>\n",
              "      <td>175</td>\n",
              "      <td>118</td>\n",
              "      <td>293</td>\n",
              "      <td>198802.000000</td>\n",
              "      <td>709.000000</td>\n",
              "      <td>7078.00000</td>\n",
              "      <td>2.00000</td>\n",
              "      <td>2.932134e+08</td>\n",
              "      <td>761.000000</td>\n",
              "    </tr>\n",
              "    <tr>\n",
              "      <th>3554</th>\n",
              "      <td>177</td>\n",
              "      <td>117</td>\n",
              "      <td>294</td>\n",
              "      <td>196397.000000</td>\n",
              "      <td>593.000000</td>\n",
              "      <td>7092.00000</td>\n",
              "      <td>2.00000</td>\n",
              "      <td>2.942108e+08</td>\n",
              "      <td>637.000000</td>\n",
              "    </tr>\n",
              "    <tr>\n",
              "      <th>3555</th>\n",
              "      <td>176</td>\n",
              "      <td>118</td>\n",
              "      <td>294</td>\n",
              "      <td>199320.000000</td>\n",
              "      <td>553.000000</td>\n",
              "      <td>7079.00000</td>\n",
              "      <td>2.00000</td>\n",
              "      <td>2.942140e+08</td>\n",
              "      <td>594.000000</td>\n",
              "    </tr>\n",
              "    <tr>\n",
              "      <th>3556</th>\n",
              "      <td>177</td>\n",
              "      <td>118</td>\n",
              "      <td>295</td>\n",
              "      <td>201369.000000</td>\n",
              "      <td>655.000000</td>\n",
              "      <td>7076.00000</td>\n",
              "      <td>2.00000</td>\n",
              "      <td>2.952162e+08</td>\n",
              "      <td>703.000000</td>\n",
              "    </tr>\n",
              "  </tbody>\n",
              "</table>\n",
              "<p>3557 rows × 9 columns</p>\n",
              "</div>\n",
              "      <button class=\"colab-df-convert\" onclick=\"convertToInteractive('df-0d000dd1-4185-439e-801a-1e48db5e134a')\"\n",
              "              title=\"Convert this dataframe to an interactive table.\"\n",
              "              style=\"display:none;\">\n",
              "        \n",
              "  <svg xmlns=\"http://www.w3.org/2000/svg\" height=\"24px\"viewBox=\"0 0 24 24\"\n",
              "       width=\"24px\">\n",
              "    <path d=\"M0 0h24v24H0V0z\" fill=\"none\"/>\n",
              "    <path d=\"M18.56 5.44l.94 2.06.94-2.06 2.06-.94-2.06-.94-.94-2.06-.94 2.06-2.06.94zm-11 1L8.5 8.5l.94-2.06 2.06-.94-2.06-.94L8.5 2.5l-.94 2.06-2.06.94zm10 10l.94 2.06.94-2.06 2.06-.94-2.06-.94-.94-2.06-.94 2.06-2.06.94z\"/><path d=\"M17.41 7.96l-1.37-1.37c-.4-.4-.92-.59-1.43-.59-.52 0-1.04.2-1.43.59L10.3 9.45l-7.72 7.72c-.78.78-.78 2.05 0 2.83L4 21.41c.39.39.9.59 1.41.59.51 0 1.02-.2 1.41-.59l7.78-7.78 2.81-2.81c.8-.78.8-2.07 0-2.86zM5.41 20L4 18.59l7.72-7.72 1.47 1.35L5.41 20z\"/>\n",
              "  </svg>\n",
              "      </button>\n",
              "      \n",
              "  <style>\n",
              "    .colab-df-container {\n",
              "      display:flex;\n",
              "      flex-wrap:wrap;\n",
              "      gap: 12px;\n",
              "    }\n",
              "\n",
              "    .colab-df-convert {\n",
              "      background-color: #E8F0FE;\n",
              "      border: none;\n",
              "      border-radius: 50%;\n",
              "      cursor: pointer;\n",
              "      display: none;\n",
              "      fill: #1967D2;\n",
              "      height: 32px;\n",
              "      padding: 0 0 0 0;\n",
              "      width: 32px;\n",
              "    }\n",
              "\n",
              "    .colab-df-convert:hover {\n",
              "      background-color: #E2EBFA;\n",
              "      box-shadow: 0px 1px 2px rgba(60, 64, 67, 0.3), 0px 1px 3px 1px rgba(60, 64, 67, 0.15);\n",
              "      fill: #174EA6;\n",
              "    }\n",
              "\n",
              "    [theme=dark] .colab-df-convert {\n",
              "      background-color: #3B4455;\n",
              "      fill: #D2E3FC;\n",
              "    }\n",
              "\n",
              "    [theme=dark] .colab-df-convert:hover {\n",
              "      background-color: #434B5C;\n",
              "      box-shadow: 0px 1px 3px 1px rgba(0, 0, 0, 0.15);\n",
              "      filter: drop-shadow(0px 1px 2px rgba(0, 0, 0, 0.3));\n",
              "      fill: #FFFFFF;\n",
              "    }\n",
              "  </style>\n",
              "\n",
              "      <script>\n",
              "        const buttonEl =\n",
              "          document.querySelector('#df-0d000dd1-4185-439e-801a-1e48db5e134a button.colab-df-convert');\n",
              "        buttonEl.style.display =\n",
              "          google.colab.kernel.accessAllowed ? 'block' : 'none';\n",
              "\n",
              "        async function convertToInteractive(key) {\n",
              "          const element = document.querySelector('#df-0d000dd1-4185-439e-801a-1e48db5e134a');\n",
              "          const dataTable =\n",
              "            await google.colab.kernel.invokeFunction('convertToInteractive',\n",
              "                                                     [key], {});\n",
              "          if (!dataTable) return;\n",
              "\n",
              "          const docLinkHtml = 'Like what you see? Visit the ' +\n",
              "            '<a target=\"_blank\" href=https://colab.research.google.com/notebooks/data_table.ipynb>data table notebook</a>'\n",
              "            + ' to learn more about interactive tables.';\n",
              "          element.innerHTML = '';\n",
              "          dataTable['output_type'] = 'display_data';\n",
              "          await google.colab.output.renderOutput(dataTable, element);\n",
              "          const docLink = document.createElement('div');\n",
              "          docLink.innerHTML = docLinkHtml;\n",
              "          element.appendChild(docLink);\n",
              "        }\n",
              "      </script>\n",
              "    </div>\n",
              "  </div>\n",
              "  "
            ]
          },
          "metadata": {},
          "execution_count": 232
        }
      ],
      "source": [
        "#se imprimen los datos exprimentales\n",
        "df"
      ]
    },
    {
      "cell_type": "code",
      "execution_count": null,
      "metadata": {
        "id": "lJF6cfRpItZ3"
      },
      "outputs": [],
      "source": [
        "#se separan los datos experimentales por tipo\n",
        "A = df['A']\n",
        "N = df['N']\n",
        "Z = df['Z']\n",
        "B = df['BE/A'] / 1000 #pasamos a MeV\n"
      ]
    },
    {
      "cell_type": "code",
      "execution_count": null,
      "metadata": {
        "id": "s-DYAe3HItZ4"
      },
      "outputs": [],
      "source": [
        "#Calculamos BE con el modelo de la gota líquida visto en clase\n",
        "\n",
        "def BE(N, Z):\n",
        "    alpha1 = 15.48   # MeV\n",
        "    alpha2 = 17.23   # MeV\n",
        "    alpha3 = 0.697   # MeV\n",
        "    alpha4 = 22.6    # MeV\n",
        "    f = alpha1 * A - alpha2 * A ** (2/3) -alpha3 * Z ** 2 / A ** (1/3) - alpha4 * (N - Z) ** 2 / A\n",
        "    return f"
      ]
    },
    {
      "cell_type": "code",
      "execution_count": null,
      "metadata": {
        "id": "431XC_NZItZ5"
      },
      "outputs": [],
      "source": [
        "#renombramos BE para los valores N y Z\n",
        "g1 = BE(N, Z)"
      ]
    },
    {
      "cell_type": "code",
      "execution_count": null,
      "metadata": {
        "colab": {
          "base_uri": "https://localhost:8080/",
          "height": 693
        },
        "id": "fII34oVmItZ3",
        "outputId": "eff3e6ce-ac3c-4989-e725-8d72a38ce4f5"
      },
      "outputs": [
        {
          "output_type": "execute_result",
          "data": {
            "text/plain": [
              "<matplotlib.legend.Legend at 0x7f6406756bd0>"
            ]
          },
          "metadata": {},
          "execution_count": 236
        },
        {
          "output_type": "display_data",
          "data": {
            "text/plain": [
              "<Figure size 864x792 with 3 Axes>"
            ],
            "image/png": "[encoded data removed]"
          },
          "metadata": {
            "needs_background": "light"
          }
        }
      ],
      "source": [
        "f = plt.figure(figsize=(12, 11))\n",
        "# plt.title(\"Energía de enlance experimental Vs A.Z.N\")\n",
        "\n",
        "ax1 = f.add_subplot(3, 1, 1)\n",
        "ax2 = f.add_subplot(3, 1, 2)\n",
        "ax3 = f.add_subplot(3, 1, 3)\n",
        "\n",
        "ax1.plot(A, B, '.', c='red', label = 'Experimental')\n",
        "ax1.plot(A, g1/A, '.', c='blue', alpha=0.2, label = 'Gota liquida')\n",
        "ax1.set_xlabel(\"A\")\n",
        "ax1.set_ylabel(\"BE/A [MeV]\")\n",
        "ax1.set_title(\"Energía de enlance experimental Vs A.Z.N\")\n",
        "ax1.legend()\n",
        "\n",
        "ax2.plot(Z, B, '.', c='red', label = 'Experimental')\n",
        "ax2.plot(A, g1/A, '.', c='blue', alpha=0.2, label = 'Gota liquida')\n",
        "ax2.set_xlabel(\"Z\")\n",
        "ax2.set_ylabel(\"BE/A [MeV]\")\n",
        "ax2.legend()\n",
        "\n",
        "ax3.plot(N, B, '.', c='red', label = 'Experimental')\n",
        "ax3.plot(A, g1/A, '.', c='blue', alpha=0.2, label = 'Gota liquida')\n",
        "ax3.set_xlabel(\"N\")\n",
        "ax3.set_ylabel(\"BE/A [MeV]\")\n",
        "ax3.legend()\n"
      ]
    },
    {
      "cell_type": "markdown",
      "source": [
        "Ahora se calcula BE con el modelo de la gota líquida, haciendo los $\\alpha _ {i} = 0$ en cada caso. Vamos disminiyendo en orden con cada función $BE_{i}$ definida"
      ],
      "metadata": {
        "id": "jThSpPMIOUVK"
      }
    },
    {
      "cell_type": "code",
      "execution_count": null,
      "metadata": {
        "id": "Eg-AN4phItZ4"
      },
      "outputs": [],
      "source": [
        "def BE4(N, Z):\n",
        "    alpha1 = 15.48   # MeV\n",
        "    alpha2 = 17.23   # MeV\n",
        "    alpha3 = 0.697   # MeV\n",
        "    alpha4 = 0    # MeV\n",
        "    f = alpha1 * A - alpha2 * A ** (2/3) -alpha3 * Z ** 2 / A ** (1/3) - alpha4 * (N - Z) ** 2 / A\n",
        "    return f\n",
        "\n",
        "def BE3(N, Z):\n",
        "    alpha1 = 15.48   # MeV\n",
        "    alpha2 = 17.23   # MeV\n",
        "    alpha3 = 0  # MeV\n",
        "    alpha4 = 0    # MeV\n",
        "    f = alpha1 * A - alpha2 * A ** (2/3) -alpha3 * Z ** 2 / A ** (1/3) - alpha4 * (N - Z) ** 2 / A\n",
        "    return f\n",
        "\n",
        "def BE2(N, Z):\n",
        "    alpha1 = 15.48   # MeV\n",
        "    alpha2 = 0  # MeV\n",
        "    alpha3 = 0  # MeV\n",
        "    alpha4 = 0    # MeV\n",
        "    f = alpha1 * A - alpha2 * A ** (2/3) -alpha3 * Z ** 2 / A ** (1/3) - alpha4 * (N - Z) ** 2 / A\n",
        "    return f\n",
        "\n",
        "def BE1(N, Z):\n",
        "    alpha1 = 0   # MeV\n",
        "    alpha2 = 0  # MeV\n",
        "    alpha3 = 0  # MeV\n",
        "    alpha4 = 0    # MeV\n",
        "    f = alpha1 * A - alpha2 * A ** (2/3) -alpha3 * Z ** 2 / A ** (1/3) - alpha4 * (N - Z) ** 2 / A\n",
        "    return f"
      ]
    },
    {
      "cell_type": "code",
      "execution_count": null,
      "metadata": {
        "id": "n2Ov0RLuItZ5"
      },
      "outputs": [],
      "source": [
        "#definimos nuevos arreglos de datos para cada caso\n",
        "d4 = BE4(N, Z) / A\n",
        "d3 = BE3(N, Z) / A\n",
        "d2 = BE2(N, Z) / A\n",
        "d1 = BE1(N, Z) / A"
      ]
    },
    {
      "cell_type": "markdown",
      "source": [
        "Graficamos para observar cómo cambia el modelo cuando disminuimos el orden de la expansión"
      ],
      "metadata": {
        "id": "I9fkYt3rPo-n"
      }
    },
    {
      "cell_type": "code",
      "execution_count": null,
      "metadata": {
        "colab": {
          "base_uri": "https://localhost:8080/",
          "height": 693
        },
        "id": "g9coT20OItZ6",
        "outputId": "3a05cebf-6604-418b-9013-837fedef2168"
      },
      "outputs": [
        {
          "output_type": "execute_result",
          "data": {
            "text/plain": [
              "Text(0.5, 1.0, 'Energía de enlance experimental Vs A.Z.N')"
            ]
          },
          "metadata": {},
          "execution_count": 239
        },
        {
          "output_type": "display_data",
          "data": {
            "text/plain": [
              "<Figure size 864x792 with 1 Axes>"
            ],
            "image/png": "[encoded data removed]"
          },
          "metadata": {
            "needs_background": "light"
          }
        }
      ],
      "source": [
        "f = plt.figure(figsize=(12, 11))\n",
        "# plt.title(\"Energía de enlance experimental Vs A.Z.N\")\n",
        "\n",
        "ax1 = f.add_subplot(1, 1, 1)\n",
        "\n",
        "ax1.plot(A, g1/A, '.', c='blue')\n",
        "ax1.plot(A, B, '.', c='red')\n",
        "ax1.plot(A, d4, '.', c='yellow', alpha=0.5)\n",
        "ax1.plot(A, d3, '.', c='c', alpha=0.2)\n",
        "ax1.plot(A, d2, '.', c='green', alpha=0.2)\n",
        "\n",
        "\n",
        "ax1.set_xlabel(\"A\")\n",
        "ax1.set_ylabel(\"BE/A [MeV]\")\n",
        "ax1.set_title(\"Energía de enlance experimental Vs A.Z.N\")"
      ]
    },
    {
      "cell_type": "markdown",
      "source": [
        "Observamos que obtenemos una gráfica similar a la de la fig 2 entregada en el planteamiento del ejercicio"
      ],
      "metadata": {
        "id": "uBarP2iAP55c"
      }
    },
    {
      "cell_type": "markdown",
      "source": [
        "2) Considerando la ecuación de masa isobárica $$M(Z,A)c^{2} = \\alpha + \\beta Z + \\gamma Z^{2} - \\delta (A) $$\n",
        "\n",
        "Ahora separamos los datos que tienen A = 131 en común en otro dataframe"
      ],
      "metadata": {
        "id": "Hgg_X5d3RFWK"
      }
    },
    {
      "cell_type": "code",
      "execution_count": null,
      "metadata": {
        "colab": {
          "base_uri": "https://localhost:8080/",
          "height": 614
        },
        "id": "eXbEar50ItZ1",
        "outputId": "cd0b7849-2f9b-4df2-e1ee-130ee20e149c"
      },
      "outputs": [
        {
          "output_type": "execute_result",
          "data": {
            "text/plain": [
              "       N   Z    A          NAN       NAN1       BE/A    NAN2          Masa  \\\n",
              "1626  85  46  131 -25740.00000  300.00000  7993.0000  2.0000  1.309724e+08   \n",
              "1627  84  47  131 -40750.00000  500.00000  8102.0000  4.0000  1.309563e+08   \n",
              "1628  83  48  131 -55211.76000   19.23800  8206.1204  0.1469  1.309407e+08   \n",
              "1629  82  49  131 -68024.36900    2.20500  8297.9544  0.0168  1.309270e+08   \n",
              "1630  81  50  131 -77264.57900    3.62100  8362.5183  0.0276  1.309171e+08   \n",
              "1631  80  51  131 -81981.41200    2.08400  8392.5525  0.0159  1.309120e+08   \n",
              "1632  79  52  131 -85211.02200    0.06100  8411.2339  0.0005  1.309085e+08   \n",
              "1633  78  53  131 -87442.72700    0.60500  8422.2977  0.0046  1.309061e+08   \n",
              "1634  77  54  131 -88413.57492    0.00512  8423.7367  0.0003  1.309051e+08   \n",
              "1635  76  55  131 -88055.57400    0.17700  8415.0317  0.0014  1.309055e+08   \n",
              "1636  75  56  131 -86678.95800    0.41500  8398.5511  0.0032  1.309069e+08   \n",
              "1637  74  57  131 -83769.26500   27.94500  8370.3676  0.2133  1.309101e+08   \n",
              "1638  73  58  131 -79708.44800   32.80200  8333.3969  0.2504  1.309144e+08   \n",
              "1639  72  59  131 -74300.66400   46.99500  8286.1439  0.3587  1.309202e+08   \n",
              "1640  71  60  131 -67768.04000   27.51700  8230.3045  0.2101  1.309272e+08   \n",
              "1641  70  61  131 -59770.00000  200.00000  8163.0000  2.0000  1.309358e+08   \n",
              "1642  69  62  131 -50280.00000  400.00000  8085.0000  3.0000  1.309460e+08   \n",
              "1643  68  63  131 -39464.00000  400.00000  7996.0000  3.0000  1.309576e+08   \n",
              "\n",
              "           NAN4  \n",
              "1626  322.00000  \n",
              "1627  537.00000  \n",
              "1628   20.65300  \n",
              "1629    2.36700  \n",
              "1630    3.88700  \n",
              "1631    2.23600  \n",
              "1632    0.06500  \n",
              "1633    0.64900  \n",
              "1634    0.00549  \n",
              "1635    0.19000  \n",
              "1636    0.44500  \n",
              "1637   30.00000  \n",
              "1638   35.21400  \n",
              "1639   50.45100  \n",
              "1640   29.54100  \n",
              "1641  215.00000  \n",
              "1642  429.00000  \n",
              "1643  429.00000  "
            ],
            "text/html": [
              "\n",
              "  <div id=\"df-0732e8ae-046a-48bc-a664-2f8274f22d1b\">\n",
              "    <div class=\"colab-df-container\">\n",
              "      <div>\n",
              "<style scoped>\n",
              "    .dataframe tbody tr th:only-of-type {\n",
              "        vertical-align: middle;\n",
              "    }\n",
              "\n",
              "    .dataframe tbody tr th {\n",
              "        vertical-align: top;\n",
              "    }\n",
              "\n",
              "    .dataframe thead th {\n",
              "        text-align: right;\n",
              "    }\n",
              "</style>\n",
              "<table border=\"1\" class=\"dataframe\">\n",
              "  <thead>\n",
              "    <tr style=\"text-align: right;\">\n",
              "      <th></th>\n",
              "      <th>N</th>\n",
              "      <th>Z</th>\n",
              "      <th>A</th>\n",
              "      <th>NAN</th>\n",
              "      <th>NAN1</th>\n",
              "      <th>BE/A</th>\n",
              "      <th>NAN2</th>\n",
              "      <th>Masa</th>\n",
              "      <th>NAN4</th>\n",
              "    </tr>\n",
              "  </thead>\n",
              "  <tbody>\n",
              "    <tr>\n",
              "      <th>1626</th>\n",
              "      <td>85</td>\n",
              "      <td>46</td>\n",
              "      <td>131</td>\n",
              "      <td>-25740.00000</td>\n",
              "      <td>300.00000</td>\n",
              "      <td>7993.0000</td>\n",
              "      <td>2.0000</td>\n",
              "      <td>1.309724e+08</td>\n",
              "      <td>322.00000</td>\n",
              "    </tr>\n",
              "    <tr>\n",
              "      <th>1627</th>\n",
              "      <td>84</td>\n",
              "      <td>47</td>\n",
              "      <td>131</td>\n",
              "      <td>-40750.00000</td>\n",
              "      <td>500.00000</td>\n",
              "      <td>8102.0000</td>\n",
              "      <td>4.0000</td>\n",
              "      <td>1.309563e+08</td>\n",
              "      <td>537.00000</td>\n",
              "    </tr>\n",
              "    <tr>\n",
              "      <th>1628</th>\n",
              "      <td>83</td>\n",
              "      <td>48</td>\n",
              "      <td>131</td>\n",
              "      <td>-55211.76000</td>\n",
              "      <td>19.23800</td>\n",
              "      <td>8206.1204</td>\n",
              "      <td>0.1469</td>\n",
              "      <td>1.309407e+08</td>\n",
              "      <td>20.65300</td>\n",
              "    </tr>\n",
              "    <tr>\n",
              "      <th>1629</th>\n",
              "      <td>82</td>\n",
              "      <td>49</td>\n",
              "      <td>131</td>\n",
              "      <td>-68024.36900</td>\n",
              "      <td>2.20500</td>\n",
              "      <td>8297.9544</td>\n",
              "      <td>0.0168</td>\n",
              "      <td>1.309270e+08</td>\n",
              "      <td>2.36700</td>\n",
              "    </tr>\n",
              "    <tr>\n",
              "      <th>1630</th>\n",
              "      <td>81</td>\n",
              "      <td>50</td>\n",
              "      <td>131</td>\n",
              "      <td>-77264.57900</td>\n",
              "      <td>3.62100</td>\n",
              "      <td>8362.5183</td>\n",
              "      <td>0.0276</td>\n",
              "      <td>1.309171e+08</td>\n",
              "      <td>3.88700</td>\n",
              "    </tr>\n",
              "    <tr>\n",
              "      <th>1631</th>\n",
              "      <td>80</td>\n",
              "      <td>51</td>\n",
              "      <td>131</td>\n",
              "      <td>-81981.41200</td>\n",
              "      <td>2.08400</td>\n",
              "      <td>8392.5525</td>\n",
              "      <td>0.0159</td>\n",
              "      <td>1.309120e+08</td>\n",
              "      <td>2.23600</td>\n",
              "    </tr>\n",
              "    <tr>\n",
              "      <th>1632</th>\n",
              "      <td>79</td>\n",
              "      <td>52</td>\n",
              "      <td>131</td>\n",
              "      <td>-85211.02200</td>\n",
              "      <td>0.06100</td>\n",
              "      <td>8411.2339</td>\n",
              "      <td>0.0005</td>\n",
              "      <td>1.309085e+08</td>\n",
              "      <td>0.06500</td>\n",
              "    </tr>\n",
              "    <tr>\n",
              "      <th>1633</th>\n",
              "      <td>78</td>\n",
              "      <td>53</td>\n",
              "      <td>131</td>\n",
              "      <td>-87442.72700</td>\n",
              "      <td>0.60500</td>\n",
              "      <td>8422.2977</td>\n",
              "      <td>0.0046</td>\n",
              "      <td>1.309061e+08</td>\n",
              "      <td>0.64900</td>\n",
              "    </tr>\n",
              "    <tr>\n",
              "      <th>1634</th>\n",
              "      <td>77</td>\n",
              "      <td>54</td>\n",
              "      <td>131</td>\n",
              "      <td>-88413.57492</td>\n",
              "      <td>0.00512</td>\n",
              "      <td>8423.7367</td>\n",
              "      <td>0.0003</td>\n",
              "      <td>1.309051e+08</td>\n",
              "      <td>0.00549</td>\n",
              "    </tr>\n",
              "    <tr>\n",
              "      <th>1635</th>\n",
              "      <td>76</td>\n",
              "      <td>55</td>\n",
              "      <td>131</td>\n",
              "      <td>-88055.57400</td>\n",
              "      <td>0.17700</td>\n",
              "      <td>8415.0317</td>\n",
              "      <td>0.0014</td>\n",
              "      <td>1.309055e+08</td>\n",
              "      <td>0.19000</td>\n",
              "    </tr>\n",
              "    <tr>\n",
              "      <th>1636</th>\n",
              "      <td>75</td>\n",
              "      <td>56</td>\n",
              "      <td>131</td>\n",
              "      <td>-86678.95800</td>\n",
              "      <td>0.41500</td>\n",
              "      <td>8398.5511</td>\n",
              "      <td>0.0032</td>\n",
              "      <td>1.309069e+08</td>\n",
              "      <td>0.44500</td>\n",
              "    </tr>\n",
              "    <tr>\n",
              "      <th>1637</th>\n",
              "      <td>74</td>\n",
              "      <td>57</td>\n",
              "      <td>131</td>\n",
              "      <td>-83769.26500</td>\n",
              "      <td>27.94500</td>\n",
              "      <td>8370.3676</td>\n",
              "      <td>0.2133</td>\n",
              "      <td>1.309101e+08</td>\n",
              "      <td>30.00000</td>\n",
              "    </tr>\n",
              "    <tr>\n",
              "      <th>1638</th>\n",
              "      <td>73</td>\n",
              "      <td>58</td>\n",
              "      <td>131</td>\n",
              "      <td>-79708.44800</td>\n",
              "      <td>32.80200</td>\n",
              "      <td>8333.3969</td>\n",
              "      <td>0.2504</td>\n",
              "      <td>1.309144e+08</td>\n",
              "      <td>35.21400</td>\n",
              "    </tr>\n",
              "    <tr>\n",
              "      <th>1639</th>\n",
              "      <td>72</td>\n",
              "      <td>59</td>\n",
              "      <td>131</td>\n",
              "      <td>-74300.66400</td>\n",
              "      <td>46.99500</td>\n",
              "      <td>8286.1439</td>\n",
              "      <td>0.3587</td>\n",
              "      <td>1.309202e+08</td>\n",
              "      <td>50.45100</td>\n",
              "    </tr>\n",
              "    <tr>\n",
              "      <th>1640</th>\n",
              "      <td>71</td>\n",
              "      <td>60</td>\n",
              "      <td>131</td>\n",
              "      <td>-67768.04000</td>\n",
              "      <td>27.51700</td>\n",
              "      <td>8230.3045</td>\n",
              "      <td>0.2101</td>\n",
              "      <td>1.309272e+08</td>\n",
              "      <td>29.54100</td>\n",
              "    </tr>\n",
              "    <tr>\n",
              "      <th>1641</th>\n",
              "      <td>70</td>\n",
              "      <td>61</td>\n",
              "      <td>131</td>\n",
              "      <td>-59770.00000</td>\n",
              "      <td>200.00000</td>\n",
              "      <td>8163.0000</td>\n",
              "      <td>2.0000</td>\n",
              "      <td>1.309358e+08</td>\n",
              "      <td>215.00000</td>\n",
              "    </tr>\n",
              "    <tr>\n",
              "      <th>1642</th>\n",
              "      <td>69</td>\n",
              "      <td>62</td>\n",
              "      <td>131</td>\n",
              "      <td>-50280.00000</td>\n",
              "      <td>400.00000</td>\n",
              "      <td>8085.0000</td>\n",
              "      <td>3.0000</td>\n",
              "      <td>1.309460e+08</td>\n",
              "      <td>429.00000</td>\n",
              "    </tr>\n",
              "    <tr>\n",
              "      <th>1643</th>\n",
              "      <td>68</td>\n",
              "      <td>63</td>\n",
              "      <td>131</td>\n",
              "      <td>-39464.00000</td>\n",
              "      <td>400.00000</td>\n",
              "      <td>7996.0000</td>\n",
              "      <td>3.0000</td>\n",
              "      <td>1.309576e+08</td>\n",
              "      <td>429.00000</td>\n",
              "    </tr>\n",
              "  </tbody>\n",
              "</table>\n",
              "</div>\n",
              "      <button class=\"colab-df-convert\" onclick=\"convertToInteractive('df-0732e8ae-046a-48bc-a664-2f8274f22d1b')\"\n",
              "              title=\"Convert this dataframe to an interactive table.\"\n",
              "              style=\"display:none;\">\n",
              "        \n",
              "  <svg xmlns=\"http://www.w3.org/2000/svg\" height=\"24px\"viewBox=\"0 0 24 24\"\n",
              "       width=\"24px\">\n",
              "    <path d=\"M0 0h24v24H0V0z\" fill=\"none\"/>\n",
              "    <path d=\"M18.56 5.44l.94 2.06.94-2.06 2.06-.94-2.06-.94-.94-2.06-.94 2.06-2.06.94zm-11 1L8.5 8.5l.94-2.06 2.06-.94-2.06-.94L8.5 2.5l-.94 2.06-2.06.94zm10 10l.94 2.06.94-2.06 2.06-.94-2.06-.94-.94-2.06-.94 2.06-2.06.94z\"/><path d=\"M17.41 7.96l-1.37-1.37c-.4-.4-.92-.59-1.43-.59-.52 0-1.04.2-1.43.59L10.3 9.45l-7.72 7.72c-.78.78-.78 2.05 0 2.83L4 21.41c.39.39.9.59 1.41.59.51 0 1.02-.2 1.41-.59l7.78-7.78 2.81-2.81c.8-.78.8-2.07 0-2.86zM5.41 20L4 18.59l7.72-7.72 1.47 1.35L5.41 20z\"/>\n",
              "  </svg>\n",
              "      </button>\n",
              "      \n",
              "  <style>\n",
              "    .colab-df-container {\n",
              "      display:flex;\n",
              "      flex-wrap:wrap;\n",
              "      gap: 12px;\n",
              "    }\n",
              "\n",
              "    .colab-df-convert {\n",
              "      background-color: #E8F0FE;\n",
              "      border: none;\n",
              "      border-radius: 50%;\n",
              "      cursor: pointer;\n",
              "      display: none;\n",
              "      fill: #1967D2;\n",
              "      height: 32px;\n",
              "      padding: 0 0 0 0;\n",
              "      width: 32px;\n",
              "    }\n",
              "\n",
              "    .colab-df-convert:hover {\n",
              "      background-color: #E2EBFA;\n",
              "      box-shadow: 0px 1px 2px rgba(60, 64, 67, 0.3), 0px 1px 3px 1px rgba(60, 64, 67, 0.15);\n",
              "      fill: #174EA6;\n",
              "    }\n",
              "\n",
              "    [theme=dark] .colab-df-convert {\n",
              "      background-color: #3B4455;\n",
              "      fill: #D2E3FC;\n",
              "    }\n",
              "\n",
              "    [theme=dark] .colab-df-convert:hover {\n",
              "      background-color: #434B5C;\n",
              "      box-shadow: 0px 1px 3px 1px rgba(0, 0, 0, 0.15);\n",
              "      filter: drop-shadow(0px 1px 2px rgba(0, 0, 0, 0.3));\n",
              "      fill: #FFFFFF;\n",
              "    }\n",
              "  </style>\n",
              "\n",
              "      <script>\n",
              "        const buttonEl =\n",
              "          document.querySelector('#df-0732e8ae-046a-48bc-a664-2f8274f22d1b button.colab-df-convert');\n",
              "        buttonEl.style.display =\n",
              "          google.colab.kernel.accessAllowed ? 'block' : 'none';\n",
              "\n",
              "        async function convertToInteractive(key) {\n",
              "          const element = document.querySelector('#df-0732e8ae-046a-48bc-a664-2f8274f22d1b');\n",
              "          const dataTable =\n",
              "            await google.colab.kernel.invokeFunction('convertToInteractive',\n",
              "                                                     [key], {});\n",
              "          if (!dataTable) return;\n",
              "\n",
              "          const docLinkHtml = 'Like what you see? Visit the ' +\n",
              "            '<a target=\"_blank\" href=https://colab.research.google.com/notebooks/data_table.ipynb>data table notebook</a>'\n",
              "            + ' to learn more about interactive tables.';\n",
              "          element.innerHTML = '';\n",
              "          dataTable['output_type'] = 'display_data';\n",
              "          await google.colab.output.renderOutput(dataTable, element);\n",
              "          const docLink = document.createElement('div');\n",
              "          docLink.innerHTML = docLinkHtml;\n",
              "          element.appendChild(docLink);\n",
              "        }\n",
              "      </script>\n",
              "    </div>\n",
              "  </div>\n",
              "  "
            ]
          },
          "metadata": {},
          "execution_count": 240
        }
      ],
      "source": [
        "df[df['A']==131]"
      ]
    },
    {
      "cell_type": "markdown",
      "source": [
        "Y separamos los elementos que cumplan con A = 131 y Z = 52, 54, 56 respectivamente"
      ],
      "metadata": {
        "id": "pf1UX464R8VJ"
      }
    },
    {
      "cell_type": "code",
      "execution_count": null,
      "metadata": {
        "id": "o5jHQ7ChItZ6"
      },
      "outputs": [],
      "source": [
        "#calculamos los valores con los cuales haremos el ajuste o fiteo\n",
        "c = 931\n",
        "me = df[df['A']==131]\n",
        "m1 = me[me['Z'] == 52]['Masa']*1e-6\n",
        "x1 = float(me[me['Z'] == 52]['Z'])\n",
        "m1 = float(m1)\n",
        "\n",
        "m2 = me[me['Z'] == 54]['Masa']*1e-6\n",
        "x2 = float(me[me['Z'] == 54]['Z'])\n",
        "m2 = float(m2)\n",
        "x2\n",
        "\n",
        "m3 = me[me['Z'] == 56]['Masa']*1e-6\n",
        "x3 = 56.0\n",
        "m3 = float(m3)\n",
        "m3\n",
        "\n",
        "y1 = m1 * c ** 2\n",
        "y2 = m2 * c ** 2\n",
        "y3 = m3 * c ** 2"
      ]
    },
    {
      "cell_type": "code",
      "execution_count": null,
      "metadata": {
        "id": "4kOmnvFUItZ8"
      },
      "outputs": [],
      "source": [
        "zz = me['Z']\n",
        "mm = me['Masa']*1e-6"
      ]
    },
    {
      "cell_type": "code",
      "execution_count": null,
      "metadata": {
        "id": "7auAjvDHItZ8"
      },
      "outputs": [],
      "source": [
        "#se define la funcion de masa isobarica\n",
        "def fun(zz, a, b, g):\n",
        "    f = a + b * zz + g * zz ** 2\n",
        "    return f"
      ]
    },
    {
      "cell_type": "code",
      "execution_count": null,
      "metadata": {
        "id": "757KOOtRItZ8"
      },
      "outputs": [],
      "source": [
        "# importamos la libreria que permite hacer el fiteo\n",
        "from scipy.optimize import curve_fit\n"
      ]
    },
    {
      "cell_type": "markdown",
      "source": [
        "2.1) Cálculo de los parámetros"
      ],
      "metadata": {
        "id": "mGuLv43fgL9h"
      }
    },
    {
      "cell_type": "code",
      "execution_count": null,
      "metadata": {
        "id": "2TKozCDzItZ9",
        "colab": {
          "base_uri": "https://localhost:8080/"
        },
        "outputId": "2c07fedf-2ead-49fc-d7b8-093c5e3ac638"
      },
      "outputs": [
        {
          "output_type": "execute_result",
          "data": {
            "text/plain": [
              "array([ 1.33404819e+02, -9.13667234e-02,  8.34361899e-04])"
            ]
          },
          "metadata": {},
          "execution_count": 245
        }
      ],
      "source": [
        "#calculamos los parametros de ajuste (alpha, beta, gamma)\n",
        "popt, _ = curve_fit(fun, zz, mm)\n",
        "a, b, c = popt\n",
        "popt\n"
      ]
    },
    {
      "cell_type": "markdown",
      "source": [
        "2.2) Graficación de la parábola de masas"
      ],
      "metadata": {
        "id": "E3nsKHoTgUFh"
      }
    },
    {
      "cell_type": "code",
      "execution_count": null,
      "metadata": {
        "colab": {
          "base_uri": "https://localhost:8080/",
          "height": 421
        },
        "id": "FJFKW3hsItZ9",
        "outputId": "2ee2bd2b-7a49-4476-f5b3-f87d8c3bd970"
      },
      "outputs": [
        {
          "output_type": "execute_result",
          "data": {
            "text/plain": [
              "<matplotlib.legend.Legend at 0x7f6407121510>"
            ]
          },
          "metadata": {},
          "execution_count": 246
        },
        {
          "output_type": "display_data",
          "data": {
            "text/plain": [
              "<Figure size 576x432 with 1 Axes>"
            ],
            "image/png": "[encoded data removed]"
          },
          "metadata": {
            "needs_background": "light"
          }
        }
      ],
      "source": [
        "#graficamos los datos experimentales de A vs el ajuste obtenido\n",
        "#con los parametros hallados\n",
        "\n",
        "\n",
        "f = plt.figure(figsize=(8, 6))\n",
        "ax1 = f.add_subplot(1, 1, 1)\n",
        "\n",
        "ax1.set_title('Masa experimental vs ajuste')\n",
        "ax1.set_ylabel('Masa')\n",
        "ax1.set_xlabel('Z')\n",
        "ax1.plot(zz, mm, '.',label='experimental')\n",
        "y = fun(zz, a,b,c)\n",
        "\n",
        "ax1.plot(zz, y, '--', c='red',label='ajuste')\n",
        "ax1.legend()"
      ]
    },
    {
      "cell_type": "markdown",
      "source": [
        "2.3) Gráfica del $Q_{\\beta}$ para el decaimiento $\\beta _{-}$ Vs Z\n",
        "\n"
      ],
      "metadata": {
        "id": "ItUTch9pgS9C"
      }
    },
    {
      "cell_type": "markdown",
      "source": [
        "De la teoría sabemos que, en general: $$\\frac{Q_{\\beta}}{c^{2}} = M(Z,A) - M(Z+1, A)$$\n",
        "Luego, reemplazando los valores desde la aproximación de masa isobárica:\n",
        "\n",
        "$$ = \\alpha + \\beta Z + \\gamma Z^{2} -[\\alpha + \\beta (Z+1) + \\gamma (Z+1)^{2}]$$ $$= -\\beta -\\gamma -2\\gamma Z$$. Teniendo en cuenta el cambio de unidades de a MeV con $c^{2}$ = 931 MeV aprox, entonces tenemos un modelo lineal para $Q_{\\beta}$\n",
        "\n",
        "$$Q_{\\beta}(Z) = - 1.33 Z + 71.39$$"
      ],
      "metadata": {
        "id": "wgeRyJ0whJR1"
      }
    },
    {
      "cell_type": "code",
      "execution_count": null,
      "metadata": {
        "colab": {
          "base_uri": "https://localhost:8080/",
          "height": 421
        },
        "id": "cqNHu3sDItZ9",
        "outputId": "17b7d086-bc07-4aa1-d0b8-56070e0485ff"
      },
      "outputs": [
        {
          "output_type": "execute_result",
          "data": {
            "text/plain": [
              "[<matplotlib.lines.Line2D at 0x7f6406f744d0>]"
            ]
          },
          "metadata": {},
          "execution_count": 247
        },
        {
          "output_type": "display_data",
          "data": {
            "text/plain": [
              "<Figure size 576x432 with 1 Axes>"
            ],
            "image/png": "[encoded data removed]"
          },
          "metadata": {
            "needs_background": "light"
          }
        }
      ],
      "source": [
        "a = alpha\n",
        "b = beta\n",
        "c = gamma\n",
        "\n",
        "#zz es la lista de isobaros con A = 131\n",
        "\n",
        "Q = []\n",
        "for i in (zz):\n",
        "  y = 71.39 - 1.33 * i\n",
        "\n",
        "  Q.append(y)\n",
        "\n",
        "f = plt.figure(figsize=(8, 6))\n",
        "ax1 = f.add_subplot(1, 1, 1)\n",
        "\n",
        "ax1.set_title('Q para el decaimiento beta Vs Z')\n",
        "ax1.set_xlabel('Z')\n",
        "ax1.set_ylabel('Q')\n",
        "ax1.plot(zz, Q, '.-')\n",
        "\n",
        "\n"
      ]
    },
    {
      "cell_type": "markdown",
      "source": [
        "Usar los parámetros locales para calcular $Z_{A}$, la carga correspondiente al isóbaro A = 131 más estable hipotético"
      ],
      "metadata": {
        "id": "ll8epu1AqnJD"
      }
    },
    {
      "cell_type": "markdown",
      "source": [
        "De la teoría sabemos que\n",
        "\n",
        "$$Z_{A} = \\frac{\\beta}{-2\\gamma}$$\n",
        " reemplazando los valores encontrados\n",
        "\n",
        "$$Z_{A} = \\frac{0.071795}{1.3*10^{-3}} = 54.3$$"
      ],
      "metadata": {
        "id": "Xg-OYY8BvRya"
      }
    },
    {
      "cell_type": "markdown",
      "source": [
        "Use los parámetros locales para predecir el $Q_{\\beta-}$ para $^{131}Sb$ y $^{131}La$"
      ],
      "metadata": {
        "id": "fVECNdCs1xgU"
      }
    },
    {
      "cell_type": "code",
      "source": [
        "def Q(Z):\n",
        "  return -1.397 *Z+ 75.450\n",
        "\n",
        "def Q2(Z):\n",
        "  return -(2*gamma*Z)-beta-gamma\n",
        "\n",
        "\n",
        "print('Q(Z=51) = ', Q(51), 'MeV')\n",
        "print('Q(Z=57) = ', Q(57), 'MeV')\n"
      ],
      "metadata": {
        "colab": {
          "base_uri": "https://localhost:8080/"
        },
        "id": "ZQdKEiVqj_70",
        "outputId": "7820329f-1f62-40d4-c47a-1704829c7dca"
      },
      "execution_count": null,
      "outputs": [
        {
          "output_type": "stream",
          "name": "stdout",
          "text": [
            "Q(Z=51) =  4.203000000000003 MeV\n",
            "Q(Z=57) =  -4.179000000000002 MeV\n"
          ]
        }
      ]
    },
    {
      "cell_type": "markdown",
      "source": [
        "para Z = 51 (Sb) y para Z = 57 (La),"
      ],
      "metadata": {
        "id": "1XYfixjZ2rab"
      }
    },
    {
      "cell_type": "markdown",
      "source": [
        "Teniendo en cuenta que $Z_{A} = 54$, luego $Z > Z_{A}$. Esto indica que el isótopo $^{131} La$ es inestable en captura de electrones."
      ],
      "metadata": {
        "id": "TYjrymeNPwQU"
      }
    },
    {
      "cell_type": "markdown",
      "source": [
        "Para el $^{238}U$ tenemos que"
      ],
      "metadata": {
        "id": "efQW0dEfVhB1"
      }
    },
    {
      "cell_type": "code",
      "source": [
        "alpha1 = 15.48   # MeV\n",
        "alpha2 = 17.23   # MeV\n",
        "alpha3 = 0.697   # MeV\n",
        "alpha4 = 22.6    # MeV\n",
        "A = 238\n",
        "Z = 92\n",
        "N = A-Z\n",
        "print('BE = ',alpha1 * A - alpha2 * A ** (2/3) -alpha3 * Z ** 2 / A ** (1/3) - alpha4 * (N - Z) ** 2 / A)"
      ],
      "metadata": {
        "colab": {
          "base_uri": "https://localhost:8080/"
        },
        "id": "yJRfNs9tSKF2",
        "outputId": "a06bca53-34a3-40ea-c8a7-e7da56654f65"
      },
      "execution_count": null,
      "outputs": [
        {
          "output_type": "stream",
          "name": "stdout",
          "text": [
            "BE =  1793.6748118515418\n"
          ]
        }
      ]
    }
  ],
  "metadata": {
    "kernelspec": {
      "display_name": "Python 3.10.8 64-bit",
      "language": "python",
      "name": "python3"
    },
    "language_info": {
      "codemirror_mode": {
        "name": "ipython",
        "version": 3
      },
      "file_extension": ".py",
      "mimetype": "text/x-python",
      "name": "python",
      "nbconvert_exporter": "python",
      "pygments_lexer": "ipython3",
      "version": "3.10.8"
    },
    "orig_nbformat": 4,
    "vscode": {
      "interpreter": {
        "hash": "9cbb33fb0dd98d60d7542c1e0a8ec9389a1bc71302aaca21e62e688716f63114"
      }
    },
    "colab": {
      "provenance": []
    }
  },
  "nbformat": 4,
  "nbformat_minor": 0
}