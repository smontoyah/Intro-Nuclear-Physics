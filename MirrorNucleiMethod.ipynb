{
  "cells": [
    {
      "cell_type": "code",
      "execution_count": null,
      "metadata": {
        "id": "imw03dHtNHJJ"
      },
      "outputs": [],
      "source": [
        "#Del archivo original de datos se ha eliminado la ultima linea donde aparece el encabezado\n",
        "#para evitar errores al momento de cargarlo"
      ]
    },
    {
      "cell_type": "markdown",
      "metadata": {
        "id": "LC2TXL9t_nWf"
      },
      "source": [
        "\n",
        " Make a graph of $\\Delta EC$ VS $A^{2/3}$. With a least squares program obtain the most suitable straight line for the experimental values. From this obtain a value of the intercept and the constant associated with the Nuclear radius.\n",
        "\n"
      ]
    },
    {
      "cell_type": "code",
      "execution_count": null,
      "metadata": {
        "colab": {
          "base_uri": "https://localhost:8080/",
          "height": 313
        },
        "id": "kxUeDtQX-x8U",
        "outputId": "33e05ead-d38f-46aa-ffaf-e6009ddbd6b5"
      },
      "outputs": [
        {
          "data": {
            "text/plain": [
              "<matplotlib.legend.Legend at 0x7fee9316c050>"
            ]
          },
          "execution_count": 72,
          "metadata": {},
          "output_type": "execute_result"
        },
        {
          "data": {
            "image/png": "[encoded data removed]",
            "text/plain": [
              "<Figure size 432x288 with 1 Axes>"
            ]
          },
          "metadata": {
            "needs_background": "light"
          },
          "output_type": "display_data"
        }
      ],
      "source": [
        "#importamos las librarias necesarias\n",
        "import numpy as np\n",
        "import matplotlib.pyplot as plt\n",
        "import scipy\n",
        "from scipy import optimize\n",
        "\n",
        "#cargamos los datos experimentales\n",
        "data = np.loadtxt('mycoulomb.dat')\n",
        "d_A = data[:,1]\n",
        "A = (data[:,0])**(2/3)\n",
        "\n",
        "#graficamos los datos experimentales\n",
        "plt.title('A vs $\\Delta$Ec')\n",
        "plt.xlabel(\"A\")\n",
        "plt.ylabel('$\\Delta$ Ec [keV]')\n",
        "plt.plot(A,d_A,'.',label='data experimental')\n",
        "plt.legend()"
      ]
    },
    {
      "cell_type": "markdown",
      "metadata": {
        "id": "bwdXyQseGtgB"
      },
      "source": [
        " Next we apply the equation discussed in class $$\\Delta W_{c} = \\frac{3}{5} ( \\frac{e^{2}}{4\\pi \\epsilon r_{0}})A^{2/3}$$"
      ]
    },
    {
      "cell_type": "code",
      "execution_count": null,
      "metadata": {
        "colab": {
          "base_uri": "https://localhost:8080/"
        },
        "id": "kfGQFXgSCvc9",
        "outputId": "4f0572c4-59cf-4433-d4f3-bca4167ef199"
      },
      "outputs": [
        {
          "name": "stdout",
          "output_type": "stream",
          "text": [
            "la pendiente calculada por regresion lineal es\n",
            "707.6157682816489\n"
          ]
        }
      ],
      "source": [
        "#definimos la funcion lineal para el modelo de dispersion\n",
        "def lineal(x,m,b):\n",
        "    return m*x+b\n",
        "\n",
        "#implementamos la libreria que permite fitear los datos\n",
        "popt,cov = scipy.optimize.curve_fit(lineal, A, d_A)\n",
        "\n",
        "#m corresponde a la constante que buscamos medir\n",
        "m = popt[0]\n",
        "\n",
        "\n",
        "print('la pendiente calculada por regresion lineal es')\n",
        "print(m)\n",
        "\n"
      ]
    },
    {
      "cell_type": "markdown",
      "metadata": {
        "id": "SllbjQXIIahO"
      },
      "source": [
        "Calculating $r_{0}$ we get"
      ]
    },
    {
      "cell_type": "code",
      "execution_count": null,
      "metadata": {
        "colab": {
          "base_uri": "https://localhost:8080/"
        },
        "id": "g8tHJYKuGug4",
        "outputId": "a04e3545-936a-4e15-fa75-11c445977bd7"
      },
      "outputs": [
        {
          "name": "stdout",
          "output_type": "stream",
          "text": [
            "la magnitud del radio nuclear calculado \n",
            " con la pendiente de la recta es\n",
            "1.2198897895733807 fm\n"
          ]
        }
      ],
      "source": [
        "eps = 8.85e-12\n",
        "r0 = (3/5)*(1.6e-38)*(1/(4*np.pi*eps*m*1e-16))\n",
        "print('la magnitud del radio nuclear calculado \\n con la pendiente de la recta es')\n",
        "print(r0*1e15, 'fm') #convertimos de m a fm\n"
      ]
    },
    {
      "cell_type": "markdown",
      "metadata": {
        "id": "s4T5dm6KINJO"
      },
      "source": [
        "The form of the previous equation allows us to make a linear fit with the function $y = mx + b$, making $y = \\Delta W_{c}$, $m = \\frac{3}{5} ( \\frac{e^{2}}{4\\pi \\epsilon r_{0}})$ y $x = A^{2/3}$"
      ]
    },
    {
      "cell_type": "code",
      "execution_count": null,
      "metadata": {
        "colab": {
          "base_uri": "https://localhost:8080/",
          "height": 315
        },
        "id": "aVlyzSirJuW0",
        "outputId": "d63dc3f6-4cb9-4399-8688-e843db15615c"
      },
      "outputs": [
        {
          "data": {
            "text/plain": [
              "<matplotlib.legend.Legend at 0x7fee930be910>"
            ]
          },
          "execution_count": 75,
          "metadata": {},
          "output_type": "execute_result"
        },
        {
          "data": {
            "image/png": "[encoded data removed]",
            "text/plain": [
              "<Figure size 432x288 with 1 Axes>"
            ]
          },
          "metadata": {
            "needs_background": "light"
          },
          "output_type": "display_data"
        }
      ],
      "source": [
        "#creamos arreglos para las nuevas variables del fiteo o ajuste\n",
        "x_new_value = np.linspace(min(A), max(A),27)\n",
        "y_new_value = lineal(x_new_value, m,popt[1])\n",
        "\n",
        "#graficando\n",
        "plt.plot(A,d_A,'*',color=\"green\",label=\"Experimental\")\n",
        "plt.plot(x_new_value,y_new_value, color=\"red\",label=\"Ajuste\")\n",
        "plt.title(\"Ajuste y data experimental para A vs $\\Delta$Ec\")\n",
        "plt.xlabel(\"A\")\n",
        "plt.ylabel('$\\Delta$ Ec [keV]')\n",
        "plt.legend()"
      ]
    },
    {
      "cell_type": "markdown",
      "metadata": {
        "id": "uHY2P7yRLzgR"
      },
      "source": [
        "Now let's plot the vertical axis in logarithmic scale to better appreciate the distances between the fit and the data."
      ]
    },
    {
      "cell_type": "code",
      "execution_count": null,
      "metadata": {
        "colab": {
          "base_uri": "https://localhost:8080/",
          "height": 332
        },
        "id": "IeOPkceOLwTF",
        "outputId": "b4a691cf-4fbb-4357-bbe1-a151c0f76631"
      },
      "outputs": [
        {
          "data": {
            "text/plain": [
              "<matplotlib.legend.Legend at 0x7fee9304d510>"
            ]
          },
          "execution_count": 76,
          "metadata": {},
          "output_type": "execute_result"
        },
        {
          "data": {
            "image/png": "[encoded data removed]",
            "text/plain": [
              "<Figure size 432x288 with 1 Axes>"
            ]
          },
          "metadata": {
            "needs_background": "light"
          },
          "output_type": "display_data"
        }
      ],
      "source": [
        "#graficando\n",
        "plt.plot(A,d_A,'*',color=\"green\",label=\"Experimental\")\n",
        "plt.plot(x_new_value,y_new_value, color=\"red\",label=\"Ajuste\")\n",
        "plt.title(\"Ajuste y data experimental para A vs $\\Delta$Ec \\n semilog\")\n",
        "plt.xlabel(\"A\")\n",
        "plt.ylabel('$\\Delta$ Ec [keV]')\n",
        "plt.yscale('log')\n",
        "plt.legend()"
      ]
    },
    {
      "cell_type": "markdown",
      "metadata": {
        "id": "p-eSf5hh-9sr"
      },
      "source": [
        "b) Make a graph of ($\\Delta EC - Fit$) vs $A^{2/3}$, where Fit are the values obtained from the line using least squares."
      ]
    },
    {
      "cell_type": "code",
      "execution_count": null,
      "metadata": {
        "colab": {
          "base_uri": "https://localhost:8080/",
          "height": 332
        },
        "id": "wrCI4DfFOgGg",
        "outputId": "f1b21fa8-9642-4cc5-ec92-d2720510c40c"
      },
      "outputs": [
        {
          "data": {
            "text/plain": [
              "<matplotlib.legend.Legend at 0x7fee92f32f90>"
            ]
          },
          "execution_count": 77,
          "metadata": {},
          "output_type": "execute_result"
        },
        {
          "data": {
            "image/png": "[encoded data removed]",
            "text/plain": [
              "<Figure size 432x288 with 1 Axes>"
            ]
          },
          "metadata": {
            "needs_background": "light"
          },
          "output_type": "display_data"
        }
      ],
      "source": [
        "#graficando\n",
        "plt.plot(A,(d_A-y_new_value)/100,'*',color=\"blue\",label=\"($\\Delta EC - Fit$) vs $A^{2/3}$\")\n",
        "\n",
        "plt.title(\"Dispersión porcentual de los datos de ajuste \\n respecto a los experimentales\")\n",
        "plt.ylabel(\"($\\Delta EC - Fit$)%\")\n",
        "plt.xlabel('$A^{2/3}$')\n",
        "plt.legend()"
      ]
    },
    {
      "cell_type": "code",
      "execution_count": null,
      "metadata": {
        "colab": {
          "base_uri": "https://localhost:8080/"
        },
        "id": "TcOWCXsPCTwE",
        "outputId": "4d81fd59-4e15-481e-d5dd-1eec195ed364"
      },
      "outputs": [
        {
          "name": "stdout",
          "output_type": "stream",
          "text": [
            "Dispersión porcentual de los datos de ajuste \n",
            " respecto a los experimentales\n",
            "[ 2.20987334  1.73365071  3.89506809  2.39648546  7.98790283  6.80932021\n",
            "  8.58073758  5.09215495  6.31357233  5.8449897   7.37640707  6.01782445\n",
            "  7.81924182  5.5606592   6.53207657  4.84349394  5.11491132  3.38632869\n",
            "  3.64774606 -0.26083656 -0.09941919 -1.00800182 -1.37658444 -2.30516707\n",
            " -2.81374969  0.36766768  0.78908505]\n"
          ]
        }
      ],
      "source": [
        "print(\"Dispersión porcentual de los datos de ajuste \\n respecto a los experimentales\")\n",
        "print((d_A-y_new_value)/100)"
      ]
    },
    {
      "cell_type": "markdown",
      "metadata": {
        "id": "uH-Mhg0gK-o9"
      },
      "source": [
        "According to the graph showing the linear fit and the experimental data, it is possible to observe that the mirror nuclei method is a good technique to calculate the nuclear radius, since it is within the order of magnitude predicted by other models seen in class.\n",
        "\n",
        "On the other hand, the distance of the fit data is not very large with respect to the experimental data, being within 10% of the predicted radius."
      ]
    }
  ],
  "metadata": {
    "colab": {
      "provenance": []
    },
    "kernelspec": {
      "display_name": "Python 3",
      "name": "python3"
    },
    "language_info": {
      "name": "python"
    }
  },
  "nbformat": 4,
  "nbformat_minor": 0
}
